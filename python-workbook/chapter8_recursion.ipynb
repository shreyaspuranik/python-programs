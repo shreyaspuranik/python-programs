{
 "cells": [
  {
   "cell_type": "code",
   "execution_count": 14,
   "metadata": {
    "collapsed": false
   },
   "outputs": [
    {
     "name": "stdout",
     "output_type": "stream",
     "text": [
      "Enter a number(blank to quit)6\n",
      "Enter a number(blank to quit)7\n",
      "Enter a number(blank to quit)4\n",
      "Enter a number(blank to quit)3\n",
      "Enter a number(blank to quit)\n",
      "Total of all values is 20.00\n"
     ]
    }
   ],
   "source": [
    "#Exercise 164:Total the values\n",
    "\n",
    "def Total():\n",
    "    line = input(\"Enter a number(blank to quit)\")\n",
    "    if line == \"\":\n",
    "        return 0\n",
    "    else:\n",
    "        return float(line) + Total()\n",
    "    \n",
    "def main():\n",
    "    total = Total()\n",
    "    print(\"Total of all values is %.2f\"%total)\n",
    "    \n",
    "main()"
   ]
  },
  {
   "cell_type": "code",
   "execution_count": 12,
   "metadata": {
    "collapsed": false
   },
   "outputs": [
    {
     "name": "stdout",
     "output_type": "stream",
     "text": [
      "Enter number 1:12\n",
      "Enter number 2:24\n",
      "GCD is 12.00\n"
     ]
    }
   ],
   "source": [
    "#Exercise 165:Greatest common Divisor\n",
    "\n",
    "def GCD(a,b):\n",
    "    \n",
    "    if b == 0:\n",
    "        return a\n",
    "    else:\n",
    "        c = a % b\n",
    "        return GCD(b,c)\n",
    "\n",
    "def main():\n",
    "    num1 = float(input(\"Enter number 1:\"))\n",
    "    num2 = float(input(\"Enter number 2:\"))\n",
    "    print(\"GCD is %.2f\"%GCD(num1,num2))\n",
    "    \n",
    "main()\n",
    "    \n",
    "    "
   ]
  },
  {
   "cell_type": "code",
   "execution_count": 21,
   "metadata": {
    "collapsed": false
   },
   "outputs": [
    {
     "name": "stdout",
     "output_type": "stream",
     "text": [
      "Enter the string:sassas\n",
      "It is a Pallindrome\n"
     ]
    }
   ],
   "source": [
    "#Exercise 167:Recursive pallindrome\n",
    "\n",
    "def pallindrome(str1):\n",
    "    \n",
    "    if len(str1) <= 1:\n",
    "        return True\n",
    "    \n",
    "    return str1[0] == str1[len(str1) - 1] and pallindrome(str1[1:len(str1) - 1])\n",
    "\n",
    "def main():\n",
    "    line = input(\"Enter the string:\")\n",
    "    \n",
    "    if pallindrome(line) == True:\n",
    "        print(\"It is a Pallindrome\")\n",
    "    else:\n",
    "        print(\"Not a Pallindrome\")\n",
    "        \n",
    "main()"
   ]
  },
  {
   "cell_type": "code",
   "execution_count": 2,
   "metadata": {
    "collapsed": false
   },
   "outputs": [
    {
     "name": "stdout",
     "output_type": "stream",
     "text": [
      "Enter the number:4\n",
      "Square root is 1.000000\n"
     ]
    }
   ],
   "source": [
    "#Exercise 168:Recursive square root\n",
    "def Recursive(num1,guess = 1):\n",
    "\n",
    "    lim_high = num1 + 10**-12\n",
    "    lim_low = num1 - 10**-12\n",
    "    \n",
    "    \n",
    "    if guess**2 >= lim_low and guess**2 <= lim_high :\n",
    "        return guess\n",
    "    else:\n",
    "        return  Recursive(num1,(guess + (num1/guess)/2))\n",
    "    \n",
    "    \n",
    "    \n",
    "def main():\n",
    "    n = float(input(\"Enter the number:\"))\n",
    "    print(\"Square root is %f\"%Recursive(n))\n",
    "    \n",
    "main()"
   ]
  },
  {
   "cell_type": "code",
   "execution_count": 28,
   "metadata": {
    "collapsed": false
   },
   "outputs": [
    {
     "name": "stdout",
     "output_type": "stream",
     "text": [
      "Enter the string:kitten\n",
      "Enter another string:sitting\n",
      "Edit distance between kitten and sitting is 3\n"
     ]
    }
   ],
   "source": [
    "#Exercise 169:String edit distance\n",
    "def editDistance(s,t):\n",
    "    if len(s) == 0:\n",
    "        return len(t)\n",
    "    elif len(t) == 0:\n",
    "        return len(s)\n",
    "    \n",
    "    else:\n",
    "        cost = 0\n",
    "        if s[len(s) - 1] != t[len(t) - 1]:\n",
    "            cost = 1\n",
    "        \n",
    "        d1 = editDistance(s[0:len(s) - 1],t) + 1\n",
    "        d2 = editDistance(s,t[0:len(t) - 1]) + 1\n",
    "        d3 = editDistance(s[0:len(s) - 1],t[0:len(t) - 1]) + cost\n",
    "        \n",
    "        return min(d1,d2,d3)\n",
    "    \n",
    "def main():\n",
    "    s1 = input(\"Enter the string:\")\n",
    "    s2 = input(\"Enter another string:\")\n",
    "    print(\"Edit distance between %s and %s is %d\"%(s1,s2,editDistance(s1,s2)))\n",
    "\n",
    "main()"
   ]
  },
  {
   "cell_type": "code",
   "execution_count": null,
   "metadata": {
    "collapsed": true
   },
   "outputs": [],
   "source": [
    "#Exercise 170:Possible change\n"
   ]
  },
  {
   "cell_type": "code",
   "execution_count": 34,
   "metadata": {
    "collapsed": false
   },
   "outputs": [
    {
     "name": "stdout",
     "output_type": "stream",
     "text": [
      "Enter the string:ssshreyaas\n",
      "When run-length encoded result is:\n",
      "['s', 3, 'h', 1, 'r', 1, 'e', 1, 'y', 1, 'a', 2, 's', 1]\n"
     ]
    }
   ],
   "source": [
    "#Exercise 174:Run_length Encoding\n",
    "\n",
    "def encode(data):\n",
    "    if len(data) == 0:\n",
    "        return []\n",
    "    \n",
    "    index = 1\n",
    "    while index < len(data) and data[index] == data[index - 1]:\n",
    "        index = index + 1\n",
    "        \n",
    "    current = [data[0],index]\n",
    "    return current + encode(data[index:len(data)])\n",
    "\n",
    "def main():\n",
    "    s = input(\"Enter the string:\")\n",
    "    print(\"When run-length encoded result is:\")\n",
    "    print(encode(s))\n",
    "    \n",
    "main()"
   ]
  },
  {
   "cell_type": "code",
   "execution_count": null,
   "metadata": {
    "collapsed": true
   },
   "outputs": [],
   "source": []
  }
 ],
 "metadata": {
  "anaconda-cloud": {},
  "kernelspec": {
   "display_name": "Python [default]",
   "language": "python",
   "name": "python3"
  },
  "language_info": {
   "codemirror_mode": {
    "name": "ipython",
    "version": 3
   },
   "file_extension": ".py",
   "mimetype": "text/x-python",
   "name": "python",
   "nbconvert_exporter": "python",
   "pygments_lexer": "ipython3",
   "version": "3.5.2"
  }
 },
 "nbformat": 4,
 "nbformat_minor": 1
}
