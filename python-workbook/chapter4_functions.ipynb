{
 "cells": [
  {
   "cell_type": "code",
   "execution_count": 2,
   "metadata": {
    "collapsed": false
   },
   "outputs": [
    {
     "name": "stdout",
     "output_type": "stream",
     "text": [
      "Enter the length of side1:3\n",
      "Enter the length of side2:4\n",
      "length of hypotenuse is 5.00\n"
     ]
    }
   ],
   "source": [
    "#Exercise 81:Compute the hypotenuse\n",
    "from math import sqrt\n",
    "def hypotenuse(side1,side2):\n",
    "    hypotenuse = sqrt(side1**2 + side2**2)\n",
    "    return hypotenuse\n",
    "\n",
    "a = float(input(\"Enter the length of side1:\"))\n",
    "b = float(input(\"Enter the length of side2:\"))\n",
    "print(\"length of hypotenuse is %.2f\"%hypotenuse(a,b))"
   ]
  },
  {
   "cell_type": "code",
   "execution_count": 12,
   "metadata": {
    "collapsed": false
   },
   "outputs": [
    {
     "name": "stdout",
     "output_type": "stream",
     "text": [
      "Enter the distance travelled:150\n",
      "Taxi fare is $6.50\n"
     ]
    }
   ],
   "source": [
    "#Exercise 82:Taxi fare\n",
    "def taxi_fare(distance):\n",
    "    if distance <= 140:\n",
    "        fare = 4.00\n",
    "    else:\n",
    "        fare = 4.00 + ((distance - 140) * 0.25)\n",
    "    return fare\n",
    "\n",
    "dist = int(input(\"Enter the distance travelled:\"))\n",
    "print(\"Taxi fare is $%.2f\"%taxi_fare(dist))"
   ]
  },
  {
   "cell_type": "code",
   "execution_count": 17,
   "metadata": {
    "collapsed": false
   },
   "outputs": [
    {
     "name": "stdout",
     "output_type": "stream",
     "text": [
      "Enter the total number of of items:2\n",
      "Shipping charge is 13.90\n"
     ]
    }
   ],
   "source": [
    "#Exercise 83:Shipping Calculator\n",
    "def shipping_charge(items):\n",
    "    if items == 1:\n",
    "        charge = 10.95\n",
    "    else:\n",
    "        charge = 10.95 + ((items - 1)*2.95)\n",
    "    return charge \n",
    "    \n",
    "n = int(input(\"Enter the total number of of items:\"))\n",
    "print(\"Shipping charge is %.2f\"%shipping_charge(n))"
   ]
  },
  {
   "cell_type": "code",
   "execution_count": 21,
   "metadata": {
    "collapsed": false
   },
   "outputs": [
    {
     "name": "stdout",
     "output_type": "stream",
     "text": [
      "Enter value1:4\n",
      "Enter value2:1\n",
      "Enter value3:9\n",
      "median is 4.00\n"
     ]
    }
   ],
   "source": [
    "#Exercise 84:Median of Three values\n",
    "def median(a,b,c):\n",
    "    return a + b + c - min(a,b,c) - max(a,b,c)\n",
    "\n",
    "def main():\n",
    "    a = float(input(\"Enter value1:\"))\n",
    "    b = float(input(\"Enter value2:\"))\n",
    "    c = float(input(\"Enter value3:\"))\n",
    "    print(\"median is %.2f\"%median(a,b,c))\n",
    "main()"
   ]
  },
  {
   "cell_type": "code",
   "execution_count": 7,
   "metadata": {
    "collapsed": false
   },
   "outputs": [
    {
     "name": "stdout",
     "output_type": "stream",
     "text": [
      "Ordinal for 1 is First\n",
      "Ordinal for 2 is Second\n",
      "Ordinal for 3 is Third\n",
      "Ordinal for 4 is Fourth\n",
      "Ordinal for 5 is Fifth\n",
      "Ordinal for 6 is Sixth\n",
      "Ordinal for 7 is Seven\n",
      "Ordinal for 8 is Eigth\n",
      "Ordinal for 9 is Ninth\n",
      "Ordinal for 10 is Tenth\n",
      "Ordinal for 11 is Eleventh\n",
      "Ordinal for 12 is Twelveth\n",
      "Ordinal for 13 is \n"
     ]
    }
   ],
   "source": [
    "#Exercise 85:Convert an integer to its Ordinal form\n",
    "def ordinal(integer):\n",
    "    if integer == 1:\n",
    "        return \"First\"\n",
    "    if integer == 2:\n",
    "        return \"Second\"\n",
    "    if integer == 3:\n",
    "        return \"Third\"\n",
    "    if integer == 4:\n",
    "        return \"Fourth\"\n",
    "    if integer == 5:\n",
    "        return \"Fifth\"\n",
    "    if integer == 6:\n",
    "        return \"Sixth\"\n",
    "    if integer == 7:\n",
    "        return \"Seven\"\n",
    "    if integer == 8:\n",
    "        return \"Eigth\"\n",
    "    if integer == 9:\n",
    "        return \"Ninth\"\n",
    "    if integer == 10:\n",
    "        return \"Tenth\"\n",
    "    if integer == 11:\n",
    "        return \"Eleventh\"\n",
    "    if integer == 12:\n",
    "        return \"Twelveth\"\n",
    "    else:\n",
    "        return \"\"\n",
    "    \n",
    "def main():\n",
    "    for i in range(1,14):\n",
    "        print(\"Ordinal for %d is %s\"%(i,ordinal(i)))\n",
    "main()        "
   ]
  },
  {
   "cell_type": "code",
   "execution_count": null,
   "metadata": {
    "collapsed": true
   },
   "outputs": [],
   "source": [
    "#Exercise 86:Twelve days of christmas\n"
   ]
  },
  {
   "cell_type": "code",
   "execution_count": 10,
   "metadata": {
    "collapsed": false
   },
   "outputs": [
    {
     "name": "stdout",
     "output_type": "stream",
     "text": [
      "Enter the string:shreyas puranik\n",
      "Enter th width:50\n",
      "                 shreyas puranik\n"
     ]
    }
   ],
   "source": [
    "#Exercise 87:Center a string in the terminal\n",
    "def center(string,width):\n",
    "    if width < len(string):\n",
    "        return string\n",
    "    else:\n",
    "        spaces = (width - len(string))//2\n",
    "        result = \" \" * spaces +string\n",
    "        return result\n",
    "    \n",
    "def main():\n",
    "    s = input(\"Enter the string:\")\n",
    "    w = int(input(\"Enter th width:\"))\n",
    "    print(center(s,w))\n",
    "main()"
   ]
  },
  {
   "cell_type": "code",
   "execution_count": 13,
   "metadata": {
    "collapsed": false
   },
   "outputs": [
    {
     "name": "stdout",
     "output_type": "stream",
     "text": [
      "Enter length1:1\n",
      "Enter length2:1\n",
      "Enter length3:8\n",
      "Triangle cannot be constructed\n"
     ]
    }
   ],
   "source": [
    "#Exercise 88:Is it a valid triangle\n",
    "\n",
    "def valid_triangle(side1,side2,side3):\n",
    "    if side1 > (side2 + side3) or side2 > (side1 + side3) or side3 > (side1 + side2):\n",
    "        return False\n",
    "    else:\n",
    "        return True\n",
    "    \n",
    "length1 = int(input(\"Enter length1:\"))\n",
    "length2 = int(input(\"Enter length2:\"))\n",
    "length3 = int(input(\"Enter length3:\"))\n",
    "valid = valid_triangle(length1,length2,length3)\n",
    "\n",
    "if valid == True:\n",
    "    print(\"Triangle can be constructed\")\n",
    "else:\n",
    "    print(\"Triangle cannot be constructed\")\n",
    "    \n",
    "    \n",
    "    "
   ]
  },
  {
   "cell_type": "code",
   "execution_count": 18,
   "metadata": {
    "collapsed": false
   },
   "outputs": [
    {
     "name": "stdout",
     "output_type": "stream",
     "text": [
      "Enter some text:shreyas puranik lemovo.lemoxo technologies\n",
      "Capitalized:Shreyas Puranik Lemovo.Lemoxo Technologies\n"
     ]
    }
   ],
   "source": [
    "#Exercise 89:capitalize it\n",
    "def capitalize(string):\n",
    "    \n",
    "    result = string\n",
    "    \n",
    "    if len(string) > 0:\n",
    "        result = result[0].upper() + result[1:len(result)]\n",
    "        \n",
    "    pos = 0\n",
    "    while pos < len(string):\n",
    "        if result[pos] == \".\" or result[pos] == \"!\" or result[pos] == \"?\" or result[pos] == \" \":\n",
    "            pos = pos + 1\n",
    "            while pos < len(string) and result[pos] == \" \":\n",
    "                pos = pos + 1\n",
    "            if pos < len(string):\n",
    "                result = result[0:pos] + result[pos].upper() + result[pos + 1 : len(result)]\n",
    "        pos = pos + 1\n",
    "\n",
    "    return result\n",
    "\n",
    "\n",
    "def main():\n",
    "    s = input(\"Enter some text:\")\n",
    "    capitalized = capitalize(s)\n",
    "    print(\"Capitalized:%s\"%capitalized)\n",
    "main()\n"
   ]
  },
  {
   "cell_type": "code",
   "execution_count": 30,
   "metadata": {
    "collapsed": false
   },
   "outputs": [
    {
     "name": "stdout",
     "output_type": "stream",
     "text": [
      "Enter the string:234\n",
      "String represents an integer\n"
     ]
    }
   ],
   "source": [
    "#Exercise 90:Does a string represent an integer\n",
    "def isInteger(s):\n",
    "    s = s.strip()\n",
    "    \n",
    "    if (s[0] == \"+\" or s[0] == \"-\") and s[1:].isdigit() == True:\n",
    "        return True\n",
    "    elif s.isdigit() == True:\n",
    "        return True\n",
    "    else:\n",
    "        return False\n",
    "    \n",
    "def main():\n",
    "    s = input(\"Enter the string:\")\n",
    "    if isInteger(s):\n",
    "        print(\"String represents an integer\")\n",
    "    else:\n",
    "        print(\"String does not represent an integer\")\n",
    "        \n",
    "if __name__ == \"__main__\":\n",
    "    main()   "
   ]
  },
  {
   "cell_type": "code",
   "execution_count": 29,
   "metadata": {
    "collapsed": false
   },
   "outputs": [
    {
     "name": "stdout",
     "output_type": "stream",
     "text": [
      "Enter the operator:*\n",
      "Precedence is 2\n"
     ]
    }
   ],
   "source": [
    "#Exercise 91:operator precedence\n",
    "def precedence(operator):\n",
    "    if operator == \"+\" or operator == \"-\":\n",
    "        return 1\n",
    "    elif operator == \"*\" or operator == \"/\":\n",
    "        return 2\n",
    "    elif operator == \"^\":\n",
    "        return 3\n",
    "    else:\n",
    "        return -1\n",
    "    \n",
    "def main():\n",
    "    op = input(\"Enter the operator:\")\n",
    "    pr = precedence(op)\n",
    "    if pr == -1:\n",
    "        print(\"Input was  not an operator\")\n",
    "    else:\n",
    "        print(\"Precedence is %d\"%pr)\n",
    "\n",
    "if __name__ == \"__main__\":\n",
    "    main()   "
   ]
  },
  {
   "cell_type": "code",
   "execution_count": 39,
   "metadata": {
    "collapsed": false
   },
   "outputs": [
    {
     "name": "stdout",
     "output_type": "stream",
     "text": [
      "Enter the number:9\n",
      "Number is not a prime number\n"
     ]
    }
   ],
   "source": [
    "#Exercise 92:Is the number prime\n",
    "\n",
    "def isPrime(n):\n",
    "    if n <= 1:\n",
    "        return False\n",
    "    else:\n",
    "        for i in range(2,n):\n",
    "            if n % i == 0:\n",
    "                return False\n",
    "        return True\n",
    "    \n",
    "def main():\n",
    "    num = int(input(\"Enter the number:\"))\n",
    "    if isPrime(num):\n",
    "        print(\"Number is prime\")\n",
    "    else:\n",
    "        print(\"Number is not a prime number\")  \n",
    "\n",
    "if __name__ == \"__main__\":\n",
    "    main()"
   ]
  },
  {
   "cell_type": "code",
   "execution_count": 47,
   "metadata": {
    "collapsed": false
   },
   "outputs": [
    {
     "name": "stdout",
     "output_type": "stream",
     "text": [
      "Find the next prime number greater than: 7\n",
      "Next prime number is: 11\n"
     ]
    }
   ],
   "source": [
    "#Exercise 93:Next prime\n",
    "\n",
    "def next_prime(n):\n",
    "    for p in range(n, n*2):\n",
    "        for i in range(2, p):\n",
    "            if p % i == 0:\n",
    "                break\n",
    "        else:\n",
    "            return p\n",
    "\n",
    "\n",
    "def main():\n",
    "    n = int(input('Find the next prime number greater than: '))\n",
    "    print(\"Next prime number is:\",next_prime(n+1))\n",
    "\n",
    "if __name__ == '__main__':\n",
    "    main()"
   ]
  },
  {
   "cell_type": "code",
   "execution_count": 80,
   "metadata": {
    "collapsed": false
   },
   "outputs": [
    {
     "name": "stdout",
     "output_type": "stream",
     "text": [
      "Your random password is: >3t~7Xz%r\n"
     ]
    }
   ],
   "source": [
    "#Exercise 94:Random password\n",
    "from random import randint\n",
    "shortest = 7\n",
    "longest = 10\n",
    "min_ascii = 33\n",
    "max_ascii = 126\n",
    "\n",
    "def randomPassword():\n",
    "    randomLength = randint(shortest,longest)\n",
    "    \n",
    "    result = \"\"\n",
    "    for i in range(randomLength):\n",
    "        randomChar = chr(randint(min_ascii,max_ascii))\n",
    "        result = result + randomChar\n",
    "    return result\n",
    "\n",
    "def main():\n",
    "    print(\"Your random password is:\",randomPassword())\n",
    "\n",
    "if __name__ == '__main__':\n",
    "    main()"
   ]
  },
  {
   "cell_type": "code",
   "execution_count": 94,
   "metadata": {
    "collapsed": false
   },
   "outputs": [
    {
     "name": "stdout",
     "output_type": "stream",
     "text": [
      "Random license plate is: 0428npd\n"
     ]
    }
   ],
   "source": [
    "#Exercise 95:Random license plate\n",
    "import random\n",
    "def RandomLicense():\n",
    "    randomLength = randint(6,7)\n",
    "    if randomLength == 7:\n",
    "        plate = \"\"\n",
    "        letters = 'abcdefghijklmnopqrstuvwxyzABCDEFGHIJKLMNOPQRSTUVWXYZ'\n",
    "        for i in range(0,4):\n",
    "            plate = plate + str(random.randint(0,9))\n",
    "        \n",
    "        for i in range(0,3):\n",
    "            plate = plate + random.choice(letters)\n",
    "    \n",
    "    elif randomLength == 6:\n",
    "        plate = \"\"\n",
    "        letters = 'abcdefghijklmnopqrstuvwxyzABCDEFGHIJKLMNOPQRSTUVWXYZ'\n",
    "        for i in range(0,3):\n",
    "            plate = plate + random.choice(letters)\n",
    "        for i in range(0,3):\n",
    "            plate = plate + str(random.randint(0,9))   \n",
    "        \n",
    "           \n",
    "    return plate\n",
    "        \n",
    "def main():\n",
    "    print(\"Random license plate is:\",RandomLicense())\n",
    "    \n",
    "if __name__ == \"__main__\":\n",
    "    main()\n",
    "        \n",
    "        \n",
    "        "
   ]
  },
  {
   "cell_type": "code",
   "execution_count": 101,
   "metadata": {
    "collapsed": false
   },
   "outputs": [
    {
     "name": "stdout",
     "output_type": "stream",
     "text": [
      "Enter the password:shreyas123AB\n",
      "Password is good\n"
     ]
    }
   ],
   "source": [
    "#Exercise 96:Check a password\n",
    "def checkPassword(password):\n",
    "    has_upper = False\n",
    "    has_lower = False\n",
    "    has_num = False\n",
    "    \n",
    "    for ch in password:\n",
    "        if ch >= \"A\" and ch <= \"Z\":\n",
    "            has_upper = True\n",
    "        if ch >= \"a\" and ch <= \"z\":\n",
    "            has_lower = True\n",
    "        if ch >= \"0\" and ch <= \"9\":\n",
    "            has_num = True\n",
    "            \n",
    "    if len(password) >= 8 and has_upper and has_lower and has_num:\n",
    "        return True\n",
    "    \n",
    "    else:\n",
    "        return False\n",
    "    \n",
    "def main():\n",
    "    pwd = input(\"Enter the password:\")\n",
    "    if checkPassword(pwd):\n",
    "        print(\"Password is good\")\n",
    "    else:\n",
    "        print(\"Password is not good\")\n",
    "        \n",
    "if __name__ == \"__main__\":\n",
    "    main()"
   ]
  },
  {
   "cell_type": "code",
   "execution_count": 75,
   "metadata": {
    "collapsed": false
   },
   "outputs": [
    {
     "data": {
      "text/plain": [
       "'t'"
      ]
     },
     "execution_count": 75,
     "metadata": {},
     "output_type": "execute_result"
    }
   ],
   "source": [
    "#Exercise 97:Random good password\n",
    "def checkPassword(password):\n",
    "    has_upper = False\n",
    "    has_lower = False\n",
    "    has_num = False\n",
    "    randomLength = randint(6,7)\n",
    "    result = \"\"\n",
    "    for i in range(0,10):\n",
    "        randomChar = chr(randint(33,126))\n",
    "        result = result + randomChar\n",
    "    return result\n",
    "    \n",
    "    for ch in result:\n",
    "        if ch >= \"A\" and ch <= \"Z\":\n",
    "            has_upper = True\n",
    "        if ch >= \"a\" and ch <= \"z\":\n",
    "            has_lower = True\n",
    "        if ch >= \"0\" and ch <= \"9\":\n",
    "            has_num = True\n",
    "            \n",
    "    if len(result) >= 8 and has_upper and has_lower and has_num:\n",
    "        return True\n",
    "    \n",
    "    else:\n",
    "        return False\n",
    "    "
   ]
  },
  {
   "cell_type": "code",
   "execution_count": 13,
   "metadata": {
    "collapsed": false
   },
   "outputs": [
    {
     "name": "stdout",
     "output_type": "stream",
     "text": [
      "Enter the number in hex form:f\n",
      "Hexadecimal equivaent is 15\n",
      "Enter the number in int form:15\n",
      "Integer equivalent is F\n"
     ]
    }
   ],
   "source": [
    "#Exercise 98:Hexadecimal and decimal digits\n",
    "def hex2int(hex1):\n",
    "    return int(hex1,16)\n",
    " \n",
    "def int2hex(n):\n",
    "    if (n < 0):\n",
    "        return str(0)\n",
    "    elif (n<=1):\n",
    "        return str(n)\n",
    "    else:\n",
    "        int2hex( n / 16 )\n",
    "        x =(n%16)\n",
    "        if (x < 10):\n",
    "            return str(x)\n",
    "        elif (x == 10):\n",
    "            return \"A\"\n",
    "        elif (x == 11):\n",
    "            return \"B\" \n",
    "        elif (x == 12):\n",
    "            return \"C\" \n",
    "        elif (x == 13):\n",
    "            return \"D\"\n",
    "        elif (x == 14):\n",
    "            return \"E\"\n",
    "        elif (x == 15):\n",
    "            return \"F\"\n",
    "        \n",
    "def main():\n",
    "    hexa = input(\"Enter the number in hex form:\")\n",
    "    print(\"Hexadecimal equivaent is %s\"%hex2int(hexa))\n",
    "    integer = int(input(\"Enter the number in int form:\"))\n",
    "    print(\"Integer equivalent is %s\"%int2hex(integer))\n",
    "    \n",
    "if __name__ == \"__main__\":\n",
    "    main()"
   ]
  },
  {
   "cell_type": "code",
   "execution_count": 8,
   "metadata": {
    "collapsed": true
   },
   "outputs": [
    {
     "name": "stdout",
     "output_type": "stream",
     "text": [
      "Enter the base to convert from:555\n",
      "Enter the sequence of digits in that base:10\n"
     ]
    },
    {
     "ename": "TypeError",
     "evalue": "Can't convert 'int' object to str implicitly",
     "output_type": "error",
     "traceback": [
      "\u001b[0;31m---------------------------------------------------------------------------\u001b[0m",
      "\u001b[0;31mTypeError\u001b[0m                                 Traceback (most recent call last)",
      "\u001b[0;32m<ipython-input-8-d64e21ccfb37>\u001b[0m in \u001b[0;36m<module>\u001b[0;34m()\u001b[0m\n\u001b[1;32m     61\u001b[0m \u001b[0;34m\u001b[0m\u001b[0m\n\u001b[1;32m     62\u001b[0m \u001b[0;32mif\u001b[0m \u001b[0m__name__\u001b[0m \u001b[0;34m==\u001b[0m \u001b[0;34m\"__main__\"\u001b[0m\u001b[0;34m:\u001b[0m\u001b[0;34m\u001b[0m\u001b[0m\n\u001b[0;32m---> 63\u001b[0;31m     \u001b[0mmain\u001b[0m\u001b[0;34m(\u001b[0m\u001b[0;34m)\u001b[0m\u001b[0;34m\u001b[0m\u001b[0m\n\u001b[0m",
      "\u001b[0;32m<ipython-input-8-d64e21ccfb37>\u001b[0m in \u001b[0;36mmain\u001b[0;34m()\u001b[0m\n\u001b[1;32m     53\u001b[0m     \u001b[0mbase\u001b[0m \u001b[0;34m=\u001b[0m \u001b[0mint\u001b[0m\u001b[0;34m(\u001b[0m\u001b[0minput\u001b[0m\u001b[0;34m(\u001b[0m\u001b[0;34m\"Enter the base to convert from:\"\u001b[0m\u001b[0;34m)\u001b[0m\u001b[0;34m)\u001b[0m\u001b[0;34m\u001b[0m\u001b[0m\n\u001b[1;32m     54\u001b[0m     \u001b[0mnumber\u001b[0m \u001b[0;34m=\u001b[0m \u001b[0minput\u001b[0m\u001b[0;34m(\u001b[0m\u001b[0;34m\"Enter the sequence of digits in that base:\"\u001b[0m\u001b[0;34m)\u001b[0m\u001b[0;34m\u001b[0m\u001b[0m\n\u001b[0;32m---> 55\u001b[0;31m     \u001b[0mdec\u001b[0m \u001b[0;34m=\u001b[0m \u001b[0mn2dec\u001b[0m\u001b[0;34m(\u001b[0m\u001b[0mbase\u001b[0m\u001b[0;34m,\u001b[0m\u001b[0mnumber\u001b[0m\u001b[0;34m)\u001b[0m\u001b[0;34m\u001b[0m\u001b[0m\n\u001b[0m\u001b[1;32m     56\u001b[0m     \u001b[0mprint\u001b[0m\u001b[0;34m(\u001b[0m\u001b[0;34m\"That's %d in base 10.\"\u001b[0m\u001b[0;34m%\u001b[0m\u001b[0mdec\u001b[0m\u001b[0;34m)\u001b[0m\u001b[0;34m\u001b[0m\u001b[0m\n\u001b[1;32m     57\u001b[0m \u001b[0;34m\u001b[0m\u001b[0m\n",
      "\u001b[0;32m<ipython-input-8-d64e21ccfb37>\u001b[0m in \u001b[0;36mn2dec\u001b[0;34m(num, b)\u001b[0m\n\u001b[1;32m     47\u001b[0m     \u001b[0;32mfor\u001b[0m \u001b[0mi\u001b[0m \u001b[0;32min\u001b[0m \u001b[0mrange\u001b[0m\u001b[0;34m(\u001b[0m\u001b[0mlen\u001b[0m\u001b[0;34m(\u001b[0m\u001b[0mnum1\u001b[0m\u001b[0;34m)\u001b[0m\u001b[0;34m)\u001b[0m\u001b[0;34m:\u001b[0m\u001b[0;34m\u001b[0m\u001b[0m\n\u001b[1;32m     48\u001b[0m         \u001b[0mdecimal\u001b[0m \u001b[0;34m=\u001b[0m \u001b[0mdecimal\u001b[0m \u001b[0;34m*\u001b[0m \u001b[0mb\u001b[0m\u001b[0;34m\u001b[0m\u001b[0m\n\u001b[0;32m---> 49\u001b[0;31m         \u001b[0mdecimal\u001b[0m \u001b[0;34m=\u001b[0m \u001b[0mdecimal\u001b[0m \u001b[0;34m+\u001b[0m \u001b[0mhex2int\u001b[0m\u001b[0;34m(\u001b[0m\u001b[0mnum1\u001b[0m\u001b[0;34m[\u001b[0m\u001b[0mi\u001b[0m\u001b[0;34m]\u001b[0m\u001b[0;34m)\u001b[0m\u001b[0;34m\u001b[0m\u001b[0m\n\u001b[0m\u001b[1;32m     50\u001b[0m         \u001b[0;32mreturn\u001b[0m \u001b[0mdecimal\u001b[0m\u001b[0;34m\u001b[0m\u001b[0m\n\u001b[1;32m     51\u001b[0m \u001b[0;34m\u001b[0m\u001b[0m\n",
      "\u001b[0;31mTypeError\u001b[0m: Can't convert 'int' object to str implicitly"
     ]
    }
   ],
   "source": [
    "#Exercise 99:Arbitrary base conversions\n",
    "\n",
    "def hex2int(hex1):\n",
    "    return int(hex1,16)\n",
    " \n",
    "def int2hex(n):\n",
    "    if (n < 0):\n",
    "        return str(0)\n",
    "    elif (n<=1):\n",
    "        return str(n)\n",
    "    else:\n",
    "        int2hex( n / 16 )\n",
    "        x =(n%16)\n",
    "        if (x < 10):\n",
    "            return str(x)\n",
    "        elif (x == 10):\n",
    "            return \"A\"\n",
    "        elif (x == 11):\n",
    "            return \"B\" \n",
    "        elif (x == 12):\n",
    "            return \"C\" \n",
    "        elif (x == 13):\n",
    "            return \"D\"\n",
    "        elif (x == 14):\n",
    "            return \"E\"\n",
    "        elif (x == 15):\n",
    "            return \"F\"\n",
    "\n",
    "def dec2n(num,new_base):\n",
    "    result = \"\"\n",
    "    q = num\n",
    "\n",
    "    r = q % base\n",
    "    result = int2hex(r) + result\n",
    "    q = q // base \n",
    "    \n",
    "    while q > 0:\n",
    "        r = q % base\n",
    "        result = int2hex(r) + result\n",
    "        q = q // base \n",
    "    return result\n",
    "\n",
    "def n2dec(num,b):\n",
    "    decimal = 0\n",
    "    power = 0\n",
    "    num1 = str(num)\n",
    "    for i in range(len(num1)):\n",
    "        decimal = decimal * b\n",
    "        decimal = decimal + hex2int(num1[i])\n",
    "        return decimal\n",
    "    \n",
    "def main():\n",
    "    base = int(input(\"Enter the base to convert from:\"))\n",
    "    number = input(\"Enter the sequence of digits in that base:\")\n",
    "    dec = n2dec(base,number)\n",
    "    print(\"That's %d in base 10.\"%dec)\n",
    "    \n",
    "    base1 = int(input(\"Enter the base to convert to:\"))\n",
    "    num1 = dec2n(dec,base1)\n",
    "    print(\"%s in base %d.\"%(to_num,to_base))\n",
    "    \n",
    "if __name__ == \"__main__\":\n",
    "    main()"
   ]
  },
  {
   "cell_type": "code",
   "execution_count": 17,
   "metadata": {
    "collapsed": false
   },
   "outputs": [
    {
     "name": "stdout",
     "output_type": "stream",
     "text": [
      "Enter the month:2\n",
      "Enter the year:2015\n",
      "Number of days:28\n"
     ]
    }
   ],
   "source": [
    "#Exercise 100:Days in a month\n",
    "\n",
    "def Days(month,year):\n",
    "\n",
    "    if month == 4 or month == 6 or month == 9 or month == 11:\n",
    "        days = 30\n",
    "    elif month == 2:\n",
    "        if year % 4 == 0:\n",
    "            days = 29\n",
    "        else:\n",
    "            days = 28\n",
    "    else:\n",
    "        days = 31\n",
    "    return days\n",
    "    \n",
    "def main():\n",
    "    m = int(input(\"Enter the month:\"))\n",
    "    y = int(input(\"Enter the year:\"))\n",
    "    print(\"Number of days:%d\"%Days(m,y))\n",
    "    \n",
    "main()"
   ]
  },
  {
   "cell_type": "code",
   "execution_count": 4,
   "metadata": {
    "collapsed": false
   },
   "outputs": [
    {
     "name": "stdout",
     "output_type": "stream",
     "text": [
      "Enter the numerator:2\n",
      "Enter the denominator20\n",
      "2/20 can be reduce to 1/10\n"
     ]
    }
   ],
   "source": [
    "#Exercise 101:Reduce a fraction to lowest term\n",
    "\n",
    "def gcd(n,m):\n",
    "    d = min(n,m)\n",
    "    \n",
    "    while n % d != 0 or m % d != 0:\n",
    "        d = d - 1\n",
    "    return d\n",
    "\n",
    "def reduce(numerator,denominator):\n",
    "    if numerator == 0:\n",
    "        return (0,1)\n",
    "    \n",
    "    g = gcd(numerator,denominator)\n",
    "    return(numerator//g,denominator//g)\n",
    "\n",
    "def main():\n",
    "    num = int(input(\"Enter the numerator:\"))\n",
    "    den = int(input(\"Enter the denominator:\"))\n",
    "    (n,d) = reduce(num,den)\n",
    "    \n",
    "    print(\"%d/%d can be reduce to %d/%d\"%(num,den,n,d))\n",
    "main()"
   ]
  },
  {
   "cell_type": "code",
   "execution_count": 9,
   "metadata": {
    "collapsed": false
   },
   "outputs": [
    {
     "name": "stdout",
     "output_type": "stream",
     "text": [
      "59 teaspoons is 1 cup, 3tablespoons, 2teaspoons\n",
      "59 tablespoons is 3 cups, 11tablespoons\n",
      "1 teaspoons is 1teaspoon\n",
      "1 tablespoom is 3 cups, 11tablespoons\n"
     ]
    }
   ],
   "source": [
    "#Exercise 102:Reduce measures\n",
    "tsp_per_tbsp = 3\n",
    "tsp_per_cup = 48\n",
    "\n",
    "def reduceMeasure(num,unit):\n",
    "    unit = unit.lower()\n",
    "    \n",
    "    if unit == \"teaspoon\" or unit == \"teaspoons\":\n",
    "        teaspoons = num\n",
    "    elif unit == \"tablespoon\" or unit == \"tablespoons\":\n",
    "        teaspoons = num * tsp_per_tbsp\n",
    "    elif unit == \"teaspoon\" or unit == \"teaspoons\":\n",
    "        teaspoons = num * tsp_per_cup\n",
    "        \n",
    "    cups = teaspoons // tsp_per_cup\n",
    "    teaspoons = teaspoons - cups * tsp_per_cup\n",
    "    tablespoons = teaspoons // tsp_per_tbsp\n",
    "    teaspoons = teaspoons - tablespoons * tsp_per_tbsp\n",
    "    \n",
    "    result = \"\"\n",
    "    \n",
    "    if cups > 0:\n",
    "        result = result + str(cups) + \" cup\"\n",
    "        if cups > 1:\n",
    "            result = result + \"s\"\n",
    "            \n",
    "    if tablespoons > 0:\n",
    "        if result != \"\":\n",
    "            result = result + \", \"\n",
    "        result = result + str(tablespoons) + \"tablespoon\"\n",
    "        if tablespoons > 1:\n",
    "            result = result + \"s\"\n",
    "            \n",
    "    if teaspoons > 0:\n",
    "        if result != \"\":\n",
    "            result = result + \", \"\n",
    "        result = result + str(teaspoons) + \"teaspoon\"\n",
    "        if tablespoons > 1:\n",
    "            result = result + \"s\"\n",
    "            \n",
    "    if result == \"\":\n",
    "        result = \"0 teaspoons\"\n",
    "        \n",
    "    return result\n",
    "\n",
    "def main():\n",
    "    print(\"59 teaspoons is %s\"%reduceMeasure(59,\"teaspoons\"))\n",
    "    print(\"59 tablespoons is %s\"%reduceMeasure(59,\"tablespoons\"))\n",
    "    print(\"1 teaspoons is %s\"%reduceMeasure(1,\"teaspoon\"))\n",
    "    print(\"1 tablespoom is %s\"%reduceMeasure(59,\"tablespoon\"))\n",
    "                                             \n",
    "main()"
   ]
  },
  {
   "cell_type": "code",
   "execution_count": 12,
   "metadata": {
    "collapsed": false
   },
   "outputs": [
    {
     "name": "stdout",
     "output_type": "stream",
     "text": [
      "1/1/1901 is a magic date\n",
      "2/1/1902 is a magic date\n",
      "1/2/1902 is a magic date\n",
      "3/1/1903 is a magic date\n",
      "1/3/1903 is a magic date\n",
      "4/1/1904 is a magic date\n",
      "2/2/1904 is a magic date\n",
      "1/4/1904 is a magic date\n",
      "5/1/1905 is a magic date\n",
      "1/5/1905 is a magic date\n",
      "6/1/1906 is a magic date\n",
      "3/2/1906 is a magic date\n",
      "2/3/1906 is a magic date\n",
      "1/6/1906 is a magic date\n",
      "7/1/1907 is a magic date\n",
      "1/7/1907 is a magic date\n",
      "8/1/1908 is a magic date\n",
      "4/2/1908 is a magic date\n",
      "2/4/1908 is a magic date\n",
      "1/8/1908 is a magic date\n",
      "9/1/1909 is a magic date\n",
      "3/3/1909 is a magic date\n",
      "1/9/1909 is a magic date\n",
      "10/1/1910 is a magic date\n",
      "5/2/1910 is a magic date\n",
      "2/5/1910 is a magic date\n",
      "1/10/1910 is a magic date\n",
      "11/1/1911 is a magic date\n",
      "1/11/1911 is a magic date\n",
      "12/1/1912 is a magic date\n",
      "6/2/1912 is a magic date\n",
      "4/3/1912 is a magic date\n",
      "3/4/1912 is a magic date\n",
      "2/6/1912 is a magic date\n",
      "1/12/1912 is a magic date\n",
      "13/1/1913 is a magic date\n",
      "14/1/1914 is a magic date\n",
      "7/2/1914 is a magic date\n",
      "2/7/1914 is a magic date\n",
      "15/1/1915 is a magic date\n",
      "5/3/1915 is a magic date\n",
      "3/5/1915 is a magic date\n",
      "16/1/1916 is a magic date\n",
      "8/2/1916 is a magic date\n",
      "4/4/1916 is a magic date\n",
      "2/8/1916 is a magic date\n",
      "17/1/1917 is a magic date\n",
      "18/1/1918 is a magic date\n",
      "9/2/1918 is a magic date\n",
      "6/3/1918 is a magic date\n",
      "3/6/1918 is a magic date\n",
      "2/9/1918 is a magic date\n",
      "19/1/1919 is a magic date\n",
      "20/1/1920 is a magic date\n",
      "10/2/1920 is a magic date\n",
      "5/4/1920 is a magic date\n",
      "4/5/1920 is a magic date\n",
      "2/10/1920 is a magic date\n",
      "21/1/1921 is a magic date\n",
      "7/3/1921 is a magic date\n",
      "3/7/1921 is a magic date\n",
      "22/1/1922 is a magic date\n",
      "11/2/1922 is a magic date\n",
      "2/11/1922 is a magic date\n",
      "23/1/1923 is a magic date\n",
      "24/1/1924 is a magic date\n",
      "12/2/1924 is a magic date\n",
      "8/3/1924 is a magic date\n",
      "6/4/1924 is a magic date\n",
      "4/6/1924 is a magic date\n",
      "3/8/1924 is a magic date\n",
      "2/12/1924 is a magic date\n",
      "25/1/1925 is a magic date\n",
      "5/5/1925 is a magic date\n",
      "26/1/1926 is a magic date\n",
      "13/2/1926 is a magic date\n",
      "27/1/1927 is a magic date\n",
      "9/3/1927 is a magic date\n",
      "3/9/1927 is a magic date\n",
      "28/1/1928 is a magic date\n",
      "14/2/1928 is a magic date\n",
      "7/4/1928 is a magic date\n",
      "4/7/1928 is a magic date\n",
      "29/1/1929 is a magic date\n",
      "30/1/1930 is a magic date\n",
      "15/2/1930 is a magic date\n",
      "10/3/1930 is a magic date\n",
      "6/5/1930 is a magic date\n",
      "5/6/1930 is a magic date\n",
      "3/10/1930 is a magic date\n",
      "31/1/1931 is a magic date\n",
      "16/2/1932 is a magic date\n",
      "8/4/1932 is a magic date\n",
      "4/8/1932 is a magic date\n",
      "11/3/1933 is a magic date\n",
      "3/11/1933 is a magic date\n",
      "17/2/1934 is a magic date\n",
      "7/5/1935 is a magic date\n",
      "5/7/1935 is a magic date\n",
      "18/2/1936 is a magic date\n",
      "12/3/1936 is a magic date\n",
      "9/4/1936 is a magic date\n",
      "6/6/1936 is a magic date\n",
      "4/9/1936 is a magic date\n",
      "3/12/1936 is a magic date\n",
      "19/2/1938 is a magic date\n",
      "13/3/1939 is a magic date\n",
      "20/2/1940 is a magic date\n",
      "10/4/1940 is a magic date\n",
      "8/5/1940 is a magic date\n",
      "5/8/1940 is a magic date\n",
      "4/10/1940 is a magic date\n",
      "21/2/1942 is a magic date\n",
      "14/3/1942 is a magic date\n",
      "7/6/1942 is a magic date\n",
      "6/7/1942 is a magic date\n",
      "22/2/1944 is a magic date\n",
      "11/4/1944 is a magic date\n",
      "4/11/1944 is a magic date\n",
      "15/3/1945 is a magic date\n",
      "9/5/1945 is a magic date\n",
      "5/9/1945 is a magic date\n",
      "23/2/1946 is a magic date\n",
      "24/2/1948 is a magic date\n",
      "16/3/1948 is a magic date\n",
      "12/4/1948 is a magic date\n",
      "8/6/1948 is a magic date\n",
      "6/8/1948 is a magic date\n",
      "4/12/1948 is a magic date\n",
      "7/7/1949 is a magic date\n",
      "25/2/1950 is a magic date\n",
      "10/5/1950 is a magic date\n",
      "5/10/1950 is a magic date\n",
      "17/3/1951 is a magic date\n",
      "26/2/1952 is a magic date\n",
      "13/4/1952 is a magic date\n",
      "27/2/1954 is a magic date\n",
      "18/3/1954 is a magic date\n",
      "9/6/1954 is a magic date\n",
      "6/9/1954 is a magic date\n",
      "11/5/1955 is a magic date\n",
      "5/11/1955 is a magic date\n",
      "28/2/1956 is a magic date\n",
      "14/4/1956 is a magic date\n",
      "8/7/1956 is a magic date\n",
      "7/8/1956 is a magic date\n",
      "19/3/1957 is a magic date\n",
      "20/3/1960 is a magic date\n",
      "15/4/1960 is a magic date\n",
      "12/5/1960 is a magic date\n",
      "10/6/1960 is a magic date\n",
      "6/10/1960 is a magic date\n",
      "5/12/1960 is a magic date\n",
      "21/3/1963 is a magic date\n",
      "9/7/1963 is a magic date\n",
      "7/9/1963 is a magic date\n",
      "16/4/1964 is a magic date\n",
      "8/8/1964 is a magic date\n",
      "13/5/1965 is a magic date\n",
      "22/3/1966 is a magic date\n",
      "11/6/1966 is a magic date\n",
      "6/11/1966 is a magic date\n",
      "17/4/1968 is a magic date\n",
      "23/3/1969 is a magic date\n",
      "14/5/1970 is a magic date\n",
      "10/7/1970 is a magic date\n",
      "7/10/1970 is a magic date\n",
      "24/3/1972 is a magic date\n",
      "18/4/1972 is a magic date\n",
      "12/6/1972 is a magic date\n",
      "9/8/1972 is a magic date\n",
      "8/9/1972 is a magic date\n",
      "6/12/1972 is a magic date\n",
      "25/3/1975 is a magic date\n",
      "15/5/1975 is a magic date\n",
      "19/4/1976 is a magic date\n",
      "11/7/1977 is a magic date\n",
      "7/11/1977 is a magic date\n",
      "26/3/1978 is a magic date\n",
      "13/6/1978 is a magic date\n",
      "20/4/1980 is a magic date\n",
      "16/5/1980 is a magic date\n",
      "10/8/1980 is a magic date\n",
      "8/10/1980 is a magic date\n",
      "27/3/1981 is a magic date\n",
      "9/9/1981 is a magic date\n",
      "28/3/1984 is a magic date\n",
      "21/4/1984 is a magic date\n",
      "14/6/1984 is a magic date\n",
      "12/7/1984 is a magic date\n",
      "7/12/1984 is a magic date\n",
      "17/5/1985 is a magic date\n",
      "29/3/1987 is a magic date\n",
      "22/4/1988 is a magic date\n",
      "11/8/1988 is a magic date\n",
      "8/11/1988 is a magic date\n",
      "30/3/1990 is a magic date\n",
      "18/5/1990 is a magic date\n",
      "15/6/1990 is a magic date\n",
      "10/9/1990 is a magic date\n",
      "9/10/1990 is a magic date\n",
      "13/7/1991 is a magic date\n",
      "23/4/1992 is a magic date\n",
      "31/3/1993 is a magic date\n",
      "19/5/1995 is a magic date\n",
      "24/4/1996 is a magic date\n",
      "16/6/1996 is a magic date\n",
      "12/8/1996 is a magic date\n",
      "8/12/1996 is a magic date\n",
      "14/7/1998 is a magic date\n",
      "11/9/1999 is a magic date\n",
      "9/11/1999 is a magic date\n"
     ]
    }
   ],
   "source": [
    "#Exercise 103:Magic dates\n",
    "def Days(month,year):\n",
    "\n",
    "    if month == 4 or month == 6 or month == 9 or month == 11:\n",
    "        days = 30\n",
    "    elif month == 2:\n",
    "        if year % 4 == 0:\n",
    "            days = 29\n",
    "        else:\n",
    "            days = 28\n",
    "    else:\n",
    "        days = 31\n",
    "    return days\n",
    "\n",
    "def isMagicDate(day,month,year):\n",
    "    if day * month == year % 100:\n",
    "        return True\n",
    "    return False\n",
    "\n",
    "def main():\n",
    "    for year in range(1900,2000):\n",
    "        for month in range(1,13):\n",
    "            for day in range(1, Days(month,year)+1):\n",
    "                if isMagicDate(day,month,year):\n",
    "                    print(\"%d/%d/%d is a magic date\"%(day,month,year))\n",
    "main()"
   ]
  },
  {
   "cell_type": "code",
   "execution_count": null,
   "metadata": {
    "collapsed": true
   },
   "outputs": [],
   "source": []
  }
 ],
 "metadata": {
  "anaconda-cloud": {},
  "kernelspec": {
   "display_name": "Python [default]",
   "language": "python",
   "name": "python3"
  },
  "language_info": {
   "codemirror_mode": {
    "name": "ipython",
    "version": 3
   },
   "file_extension": ".py",
   "mimetype": "text/x-python",
   "name": "python",
   "nbconvert_exporter": "python",
   "pygments_lexer": "ipython3",
   "version": "3.5.2"
  }
 },
 "nbformat": 4,
 "nbformat_minor": 1
}
