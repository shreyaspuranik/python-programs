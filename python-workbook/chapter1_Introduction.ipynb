{
 "cells": [
  {
   "cell_type": "code",
   "execution_count": 3,
   "metadata": {
    "collapsed": false
   },
   "outputs": [
    {
     "name": "stdout",
     "output_type": "stream",
     "text": [
      "what is your name?:shreyas\n",
      "Hello shreyas\n"
     ]
    }
   ],
   "source": [
    "#Exercise 2 \n",
    "name = input(\"what is your name?:\")\n",
    "print(\"Hello\",name)"
   ]
  },
  {
   "cell_type": "code",
   "execution_count": 4,
   "metadata": {
    "collapsed": false
   },
   "outputs": [
    {
     "name": "stdout",
     "output_type": "stream",
     "text": [
      "length of the room:4\n",
      "widht of the room:5\n",
      "Area is 20.000000\n"
     ]
    }
   ],
   "source": [
    "#Exercise 3 - Area of room\n",
    "length = float(input(\"length of the room:\"))\n",
    "width = float(input(\"widht of the room:\"))\n",
    "area = length * width\n",
    "print(\"Area is %f\"%area)\n"
   ]
  },
  {
   "cell_type": "code",
   "execution_count": 6,
   "metadata": {
    "collapsed": false
   },
   "outputs": [
    {
     "name": "stdout",
     "output_type": "stream",
     "text": [
      "length of the room:1000\n",
      "widht of the room:1100\n",
      "Area of field is 25.252525252525253 acres\n"
     ]
    }
   ],
   "source": [
    "#Exercise 3 - Area of field in acres\n",
    "sqft_per_acre = 43560\n",
    "length = float(input(\"length of the room:\"))\n",
    "width = float(input(\"widht of the room:\"))\n",
    "acres = length * width / sqft_per_acre\n",
    "print(\"Area of field is\",acres,\"acres\")"
   ]
  },
  {
   "cell_type": "code",
   "execution_count": 10,
   "metadata": {
    "collapsed": false
   },
   "outputs": [
    {
     "name": "stdout",
     "output_type": "stream",
     "text": [
      "How many containers of 1 litre or less you have:5\n",
      "How many containers more than 1 litre you have:8\n",
      "Your total refund is $2.500000\n"
     ]
    }
   ],
   "source": [
    "#Exercise 5: Bottle Deposits\n",
    "less_deposit = 0.10\n",
    "more_deposit = 0.25\n",
    "\n",
    "less = int(input(\"How many containers of 1 litre or less you have:\"))\n",
    "more = int(input(\"How many containers more than 1 litre you have:\"))\n",
    "\n",
    "refund = less*less_deposit + more*more_deposit\n",
    "print(\"Your total refund is $%f\"%refund)\n"
   ]
  },
  {
   "cell_type": "code",
   "execution_count": 14,
   "metadata": {
    "collapsed": false
   },
   "outputs": [
    {
     "name": "stdout",
     "output_type": "stream",
     "text": [
      "Enter the cost of meal ordered:4000\n",
      "tax = 200.00, tip = 720.00, grandtotal = 4920.00\n"
     ]
    }
   ],
   "source": [
    "#Exercise 6: Tax and Tip\n",
    "cost = int(input(\"Enter the cost of meal ordered:\"))\n",
    "tax = 0.05 * cost\n",
    "tip = 0.18 * cost\n",
    "total = cost + tax + tip\n",
    "print(\"tax = %.2f, tip = %.2f, grandtotal = %.2f\"%(tax,tip,total))"
   ]
  },
  {
   "cell_type": "code",
   "execution_count": 12,
   "metadata": {
    "collapsed": false
   },
   "outputs": [
    {
     "name": "stdout",
     "output_type": "stream",
     "text": [
      "Enter the number:5\n",
      "sum of all the numbers from 1 to 5 is 15\n"
     ]
    }
   ],
   "source": [
    "#Exercise 7:Sum of the first n positive integers\n",
    "number = int(input(\"Enter the number:\"))\n",
    "sum = number*(number + 1) / 2\n",
    "print(\"sum of all the numbers from 1 to %d is %d\"%(number,sum))"
   ]
  },
  {
   "cell_type": "code",
   "execution_count": 13,
   "metadata": {
    "collapsed": false
   },
   "outputs": [
    {
     "name": "stdout",
     "output_type": "stream",
     "text": [
      "Enter the number of widgets to order6\n",
      "Enter the number of gizmo to order3\n",
      "total weight of order is 786:\n"
     ]
    }
   ],
   "source": [
    "#Exercise 8:Widgets and Gizmos\n",
    "widgets = int(input(\"Enter the number of widgets to order:))\n",
    "gizmo = int(input(\"Enter the number of gizmo to order:))\n",
    "total_weight = widgets*75 + gizmo*112\n",
    "print(\"total weight of order is %d:\"%total_weight)"
   ]
  },
  {
   "cell_type": "code",
   "execution_count": 18,
   "metadata": {
    "collapsed": false
   },
   "outputs": [
    {
     "name": "stdout",
     "output_type": "stream",
     "text": [
      "Enter the amount deposited into the account:3444\n",
      "Amount in the savings account in 1st year:3581.76\n",
      "Amount in the savings account in 2nd year:3725.03\n",
      "Amount in the savings account in 3rd year:3874.03\n"
     ]
    }
   ],
   "source": [
    "#Exercise 9:compund interest\n",
    "deposit = int(input(\"Enter the amount deposited into the account:\"))\n",
    "interest = 0.04\n",
    "savings1 = deposit + deposit*interest\n",
    "savings2 = savings1 + savings1*interest\n",
    "savings3 = savings2 + savings2*interest\n",
    "\n",
    "print(\"Amount in the savings account in 1st year:%.2f\"%savings1)\n",
    "print(\"Amount in the savings account in 2nd year:%.2f\"%savings2)\n",
    "print(\"Amount in the savings account in 3rd year:%.2f\"%savings3)\n",
    "                "
   ]
  },
  {
   "cell_type": "code",
   "execution_count": 19,
   "metadata": {
    "collapsed": false
   },
   "outputs": [
    {
     "name": "stdout",
     "output_type": "stream",
     "text": [
      "Enter the value of a:4\n",
      "Enter the value of b:2\n",
      "Addition of numbers is: 6\n",
      "Subtraction of numbers is: 2\n",
      "Multiplication of numbers is: 8\n",
      "Division of numbers is: 2.0\n",
      "Remainder of a/b: 0\n",
      "The base 10 logarithm of  4 is 0.6020599913279624\n"
     ]
    }
   ],
   "source": [
    "#Exercise 10:Arithematic\n",
    "from math import log10\n",
    "a = int(input(\"Enter the value of a:\"))\n",
    "b = int(input(\"Enter the value of b:\"))\n",
    "print(\"Addition of numbers is:\",a + b)\n",
    "print(\"Subtraction of numbers is:\",a - b)\n",
    "print(\"Multiplication of numbers is:\",a * b)\n",
    "print(\"Division of numbers is:\",a/b)\n",
    "print(\"Remainder of a/b:\",a % b)\n",
    "print(\"The base 10 logarithm of \",a, \"is\", log10(a))\n"
   ]
  },
  {
   "cell_type": "code",
   "execution_count": 24,
   "metadata": {
    "collapsed": false
   },
   "outputs": [
    {
     "name": "stdout",
     "output_type": "stream",
     "text": [
      "Enter the fuel efficieny in miles-per-gallon(MPG):45\n",
      "Equivaent fuel efficiency in litres-per-hundred(L/100):10584.675000\n"
     ]
    }
   ],
   "source": [
    "#Exercise 11:Fuel Efficiency\n",
    "efficiency1 = float(input(\"Enter the fuel efficieny in miles-per-gallon(MPG):\"))\n",
    "efficiency2 = efficiency1 * 235.215\n",
    "print(\"Equivaent fuel efficiency in litres-per-hundred(L/100):%f\"%efficiency2)"
   ]
  },
  {
   "cell_type": "code",
   "execution_count": 27,
   "metadata": {
    "collapsed": false
   },
   "outputs": [
    {
     "name": "stdout",
     "output_type": "stream",
     "text": [
      "Enter the lattitude of first point:45\n",
      "Enter the longitude of first point:45\n",
      "Enter the lattitude of second point:60\n",
      "Enter the longitude of second point:60\n",
      "Distance between two points is 1942.482546\n"
     ]
    }
   ],
   "source": [
    "#Exercise 12:Distance between 2  points on earth\n",
    "from math import radians\n",
    "from math import acos\n",
    "from math import sin\n",
    "from math import cos\n",
    "t1 = int(input(\"Enter the lattitude of first point:\"))\n",
    "g1 = int(input(\"Enter the longitude of first point:\"))\n",
    "t2 = int(input(\"Enter the lattitude of second point:\"))\n",
    "g2 = int(input(\"Enter the longitude of second point:\"))\n",
    "t1 = radians(t1)\n",
    "g1 = radians(g1)\n",
    "t2 = radians(t2)\n",
    "g2 = radians(g2)\n",
    "distance = 6371.01 * acos(sin(t1)*sin(t2) + cos(t1)*cos(t2)*cos(g1-g2))\n",
    "print(\"Distance between two points is %f\"%distance)\n",
    "\n"
   ]
  },
  {
   "cell_type": "code",
   "execution_count": 31,
   "metadata": {
    "collapsed": false
   },
   "outputs": [
    {
     "name": "stdout",
     "output_type": "stream",
     "text": [
      "Enter the number of cents:600\n",
      "  3 tonnies\n",
      "  0 lonnies\n",
      "  0 quarters\n",
      "  0 dimes\n",
      "  0 nickels\n",
      "  0 pennies\n"
     ]
    }
   ],
   "source": [
    "#Exercise 13:Making change\n",
    "cents_per_tonnie = 200\n",
    "cents_per_lonnie = 100\n",
    "cents_per_quarter = 25\n",
    "cents_per_dime = 10\n",
    "cents_per_nickel = 5\n",
    "\n",
    "cents = int(input(\"Enter the number of cents:\"))\n",
    "\n",
    "print(\" \", cents // cents_per_tonnie, \"tonnies\")\n",
    "cents = cents % cents_per_tonnie\n",
    "\n",
    "print(\" \", cents // cents_per_lonnie, \"lonnies\")\n",
    "cents = cents % cents_per_lonnie\n",
    "\n",
    "print(\" \", cents // cents_per_quarter, \"quarters\")\n",
    "cents = cents % cents_per_quarter\n",
    "\n",
    "print(\" \", cents // cents_per_dime, \"dimes\")\n",
    "cents = cents % cents_per_dime\n",
    "\n",
    "print(\" \", cents // cents_per_nickel, \"nickels\")\n",
    "cents = cents % cents_per_nickel\n",
    "\n",
    "print(\" \", cents, \"pennies\")\n"
   ]
  },
  {
   "cell_type": "code",
   "execution_count": 32,
   "metadata": {
    "collapsed": false
   },
   "outputs": [
    {
     "name": "stdout",
     "output_type": "stream",
     "text": [
      "Enter your height\n",
      " Number of feet: 6\n",
      " Number of inches: 0\n",
      "Your height in centimetres is 182.880000 centimetres\n"
     ]
    }
   ],
   "source": [
    "#Exercise 14:Height Units\n",
    "print(\"Enter your height\")\n",
    "feet = int(input(\" Number of feet: \"))\n",
    "inches = int(input(\" Number of inches: \"))\n",
    "inches_per_feet = 12\n",
    "cm_per_inches = 2.54\n",
    "\n",
    "cm = (feet*inches_per_feet + inches) * cm_per_inches\n",
    "print(\"Your height in centimetres is %f centimetres\"%cm)"
   ]
  },
  {
   "cell_type": "code",
   "execution_count": 1,
   "metadata": {
    "collapsed": false
   },
   "outputs": [
    {
     "name": "stdout",
     "output_type": "stream",
     "text": [
      "Enter the measurerment in feet:100\n",
      "Distance in inches:1200.000000\n",
      "Distance in yards:33.300000\n",
      "Distance in miles:0.018939\n"
     ]
    }
   ],
   "source": [
    "#Exercise 15:Distance Units\n",
    "measurement = float(input(\"Enter the measurerment in feet:\"))\n",
    "inches = measurement * 12\n",
    "yards = measurement * 0.333\n",
    "miles = measurement * 0.000189394\n",
    "print(\"Distance in inches:%f\"%inches)\n",
    "print(\"Distance in yards:%f\"%yards)\n",
    "print(\"Distance in miles:%f\"%miles)\n"
   ]
  },
  {
   "cell_type": "code",
   "execution_count": 10,
   "metadata": {
    "collapsed": false
   },
   "outputs": [
    {
     "name": "stdout",
     "output_type": "stream",
     "text": [
      "Enter the radius:4\n",
      "Area of circle is :50.265482\n",
      "Volume of sphere is :268.082573\n"
     ]
    }
   ],
   "source": [
    "#Exercise 16:Area and Volume\n",
    "from math import pi\n",
    "radius = float(input(\"Enter the radius:\"))\n",
    "area_of_circle = pi * (radius**2)\n",
    "vol_of_sphere = ((4/3) * pi) * (radius**3)\n",
    "print(\"Area of circle is :%f\"%area_of_circle)\n",
    "print(\"Volume of sphere is :%f\"%vol_of_sphere)\n"
   ]
  },
  {
   "cell_type": "code",
   "execution_count": 14,
   "metadata": {
    "collapsed": false
   },
   "outputs": [
    {
     "name": "stdout",
     "output_type": "stream",
     "text": [
      "Enter the mass of water in millilitres:400\n",
      "Enter the temperature difference in degree celcius:40\n",
      "66976 Joules of energy will be required:\n",
      "That much energy will cost 0.17 cents:\n"
     ]
    }
   ],
   "source": [
    "#Exercise 17:Heat capacity\n",
    "\n",
    "hc_water = 4.186                  #heat capacity of water\n",
    "electricty_price = 8.9\n",
    "j_to_kwh = 2.77778e-7\n",
    "mass = float(input(\"Enter the mass of water in millilitres:\"))\n",
    "temp_diff = float(input(\"Enter the temperature difference in degree celcius:\"))\n",
    "amount_of_energy= mass * hc_water * temp_diff   #q\n",
    "print(\"%d Joules of energy will be required:\"%amount_of_energy)\n",
    "\n",
    "#compute cost\n",
    "kwh = amount_of_energy * j_to_kwh\n",
    "cost = kwh * electricty_price\n",
    "\n",
    "print(\"That much energy will cost %.2f cents:\"%cost)"
   ]
  },
  {
   "cell_type": "code",
   "execution_count": 18,
   "metadata": {
    "collapsed": false
   },
   "outputs": [
    {
     "name": "stdout",
     "output_type": "stream",
     "text": [
      "Enter the radius of cylinder:5\n",
      "Enter the height of cylinder:4\n",
      "Volume of cylinder is: 314.2\n"
     ]
    }
   ],
   "source": [
    "#Exercise 18:Volume of cylinder\n",
    "from math import pi\n",
    "radius = float(input(\"Enter the radius of cylinder:\"))\n",
    "height = float(input(\"Enter the height of cylinder:\"))\n",
    "vol_of_cylinder = pi * (radius**2) * height\n",
    "print(\"Volume of cylinder is: %.1f\"%vol_of_cylinder)"
   ]
  },
  {
   "cell_type": "code",
   "execution_count": 20,
   "metadata": {
    "collapsed": false
   },
   "outputs": [
    {
     "name": "stdout",
     "output_type": "stream",
     "text": [
      "Enter the height from which object is dropped(in metres):10\n",
      "speed with which object drops is :14.000000m/s\n"
     ]
    }
   ],
   "source": [
    "#Exercise 19:Free Fall\n",
    "import math\n",
    "height = float(input(\"Enter the height from which object is dropped(in metres):\"))\n",
    "acc_gravity = 9.8\n",
    "final_speed = math.sqrt(2*acc_gravity*height)\n",
    "print(\"speed with which object drops is :%fm/s\"%final_speed)\n"
   ]
  },
  {
   "cell_type": "code",
   "execution_count": 3,
   "metadata": {
    "collapsed": false
   },
   "outputs": [
    {
     "name": "stdout",
     "output_type": "stream",
     "text": [
      "Enter the value for pressure in pascals:20000000\n",
      "Enter the value for volume in litres:12\n",
      "Enter the value for temperaturein Fahreinheit:68\n",
      "Amount of gas in moles: 801860.32\n"
     ]
    }
   ],
   "source": [
    "#Exercise 20:Ideal Gas Law\n",
    "#PV = nRT\n",
    "R = 8.314   #ideal gas constant\n",
    "P = float(input(\"Enter the value for pressure in pascals:\"))\n",
    "V = float(input(\"Enter the value for volume in litres:\"))\n",
    "T = float(input(\"Enter the value for temperaturein Fahreinheit:\"))\n",
    "T_kelvin = T - 32\n",
    "\n",
    "n = (P*V)/(R*T_kelvin)\n",
    "print(\"Amount of gas in moles: %.2f\"%n)\n",
    "\n",
    "\n"
   ]
  },
  {
   "cell_type": "code",
   "execution_count": 4,
   "metadata": {
    "collapsed": false
   },
   "outputs": [
    {
     "name": "stdout",
     "output_type": "stream",
     "text": [
      "Base of triangle:3\n",
      "height of triangle:4\n",
      "Area of triangle is:6.00\n"
     ]
    }
   ],
   "source": [
    "#Exercise 21:Area of triangle\n",
    "base = float(input(\"Base of triangle:\"))\n",
    "height = float(input(\"height of triangle:\"))\n",
    "area = base*height / 2\n",
    "print(\"Area of triangle is:%.2f\"%area)"
   ]
  },
  {
   "cell_type": "code",
   "execution_count": 13,
   "metadata": {
    "collapsed": false
   },
   "outputs": [
    {
     "name": "stdout",
     "output_type": "stream",
     "text": [
      "length of side1 of triangle:3\n",
      "length of side2 of triangle:7\n",
      "length of side3 of triangle:8\n",
      "Area of triangle is:10.39\n"
     ]
    }
   ],
   "source": [
    "#Exercise 22:Area of triangle\n",
    "import math\n",
    "s1 = float(input(\"length of side1 of triangle:\"))\n",
    "s2 = float(input(\"length of side2 of triangle:\"))\n",
    "s3 = float(input(\"length of side3 of triangle:\"))\n",
    "s = (s1 + s2 + s3)/2\n",
    "area = math.sqrt(s * (s-s1) * (s-s2) * (s-s3))\n",
    "print(\"Area of triangle is:%.2f\"%area)"
   ]
  },
  {
   "cell_type": "code",
   "execution_count": 1,
   "metadata": {
    "collapsed": false
   },
   "outputs": [
    {
     "name": "stdout",
     "output_type": "stream",
     "text": [
      "length of side of polygon:4\n",
      "number of sides of polygon:5\n",
      "Area of polygon is:27.53\n"
     ]
    }
   ],
   "source": [
    "#Exercise 23:Area of polygon\n",
    "from math import tan\n",
    "from math import pi\n",
    "s = float(input(\"length of side of polygon:\"))\n",
    "n = float(input(\"number of sides of polygon:\"))\n",
    "area = (n * (s**2))/(4 * tan(pi/n))\n",
    "print(\"Area of polygon is:%.2f\"%area)"
   ]
  },
  {
   "cell_type": "code",
   "execution_count": 2,
   "metadata": {
    "collapsed": false
   },
   "outputs": [
    {
     "name": "stdout",
     "output_type": "stream",
     "text": [
      "Enter the duration\n",
      "Number of days:2\n",
      "Number of hours3\n",
      "Number of minutes50\n",
      "Number of seconds56\n",
      "Time in seconds is:186656\n"
     ]
    }
   ],
   "source": [
    "#Exercise 24:Units of time\n",
    "print(\"Enter the duration\")\n",
    "days = int(input(\"Number of days:\"))\n",
    "hours = int(input(\"Number of hours\"))\n",
    "minutes = int(input(\"Number of minutes\"))\n",
    "seconds = int(input(\"Number of seconds\"))\n",
    "time_in_seconds = days*86400 + hours*3600 + minutes*60 + seconds\n",
    "print(\"Time in seconds is:%d\"%time_in_seconds)"
   ]
  },
  {
   "cell_type": "code",
   "execution_count": 29,
   "metadata": {
    "collapsed": false
   },
   "outputs": [
    {
     "name": "stdout",
     "output_type": "stream",
     "text": [
      "Enter time in seconds:186656\n",
      "The equivalent duration is: 02:03:50:56\n"
     ]
    }
   ],
   "source": [
    "#Exercise 25:Units of time(Again)\n",
    "seconds_per_day = 86400\n",
    "seconds_per_hour = 3600\n",
    "seconds_per_minute = 60\n",
    "time_in_seconds = int(input(\"Enter time in seconds:\"))\n",
    "\n",
    "days = time_in_seconds/seconds_per_day\n",
    "time_in_seconds = time_in_seconds % seconds_per_day\n",
    "\n",
    "hours = time_in_seconds/seconds_per_hour\n",
    "time_in_seconds = time_in_seconds % seconds_per_hour\n",
    "\n",
    "minutes = time_in_seconds/seconds_per_minute\n",
    "time_in_seconds = time_in_seconds % seconds_per_minute\n",
    "\n",
    "print(\"The equivalent duration is: %02d:%02d:%02d:%02d\"%(days,hours,minutes,seconds))"
   ]
  },
  {
   "cell_type": "code",
   "execution_count": 35,
   "metadata": {
    "collapsed": false
   },
   "outputs": [
    {
     "data": {
      "text/plain": [
       "'Tue Nov  8 15:47:08 2016'"
      ]
     },
     "execution_count": 35,
     "metadata": {},
     "output_type": "execute_result"
    }
   ],
   "source": [
    "#Exercise 26:Current time\n",
    "from time import asctime\n",
    "asctime()"
   ]
  },
  {
   "cell_type": "code",
   "execution_count": 51,
   "metadata": {
    "collapsed": false
   },
   "outputs": [
    {
     "name": "stdout",
     "output_type": "stream",
     "text": [
      "Height of individual in metres:1.72\n",
      "Weight of individual kilograms:60\n",
      "Body Mass Index = 20.281233\n"
     ]
    }
   ],
   "source": [
    "#Exercise 27:Body mass index\n",
    "height = float(input(\"Height of individual in metres:\"))\n",
    "weight = float(input(\"Weight of individual kilograms:\"))\n",
    "BMI = weight / (height*height)\n",
    "print(\"Body Mass Index = %f\"%BMI)"
   ]
  },
  {
   "cell_type": "code",
   "execution_count": 47,
   "metadata": {
    "collapsed": false
   },
   "outputs": [
    {
     "name": "stdout",
     "output_type": "stream",
     "text": [
      "Air temperature in degree celsius:8\n",
      "wind speed in kilometres per hour:20\n",
      "Wind chill index is:5\n"
     ]
    }
   ],
   "source": [
    "#Exercise 28:Wind chill\n",
    "T = float(input(\"Air temperature in degree celsius:\"))\n",
    "V = float(input(\"wind speed in kilometres per hour:\"))\n",
    "WCI = 13.12 + 0.6215*T - 11.37*(V**0.16) + 0.3965*T*((V**0.16))\n",
    "print(\"Wind chill index is:%d\"%int(round(WCI)))\n",
    "\n"
   ]
  },
  {
   "cell_type": "code",
   "execution_count": 53,
   "metadata": {
    "collapsed": false
   },
   "outputs": [
    {
     "name": "stdout",
     "output_type": "stream",
     "text": [
      "Temperature in degree celsius:32\n",
      "Temperature in fahreinheit:89.60 , Temperature in kelvin:305.15\n"
     ]
    }
   ],
   "source": [
    "#Exercise 29:Celsius to Fahreinheit and Kelvin\n",
    "T = float(input(\"Temperature in degree celsius:\"))\n",
    "T_fahrenheit = T * 1.8 + 32\n",
    "T_kelvin = T + 273.15\n",
    "print(\"Temperature in fahreinheit:%.2f , Temperature in kelvin:%.2f\"%(T_fahrenheit,T_kelvin))"
   ]
  },
  {
   "cell_type": "code",
   "execution_count": 54,
   "metadata": {
    "collapsed": false
   },
   "outputs": [
    {
     "name": "stdout",
     "output_type": "stream",
     "text": [
      "Enter the value for Pressure in kilopascals:300\n",
      "Pressure in pounds per square inch:43.51\n",
      "Pressure in millimetres of mercury:2250.19\n",
      "Pressure in atmosphere:2.96\n"
     ]
    }
   ],
   "source": [
    "#Exercise 30:Units of pressure\n",
    "P = float(input(\"Enter the value for Pressure in kilopascals:\"))\n",
    "P_pound = 0.145038 * P\n",
    "P_atmosphere = 0.00986923 * P\n",
    "P_mercury = 7.50062 * P\n",
    "print(\"Pressure in pounds per square inch:%.2f\"%P_pound)\n",
    "print(\"Pressure in millimetres of mercury:%.2f\"%P_mercury)\n",
    "print(\"Pressure in atmosphere:%.2f\"%P_atmosphere)"
   ]
  },
  {
   "cell_type": "code",
   "execution_count": 69,
   "metadata": {
    "collapsed": false
   },
   "outputs": [
    {
     "name": "stdout",
     "output_type": "stream",
     "text": [
      "Enter four digit integer:3452\n",
      "Sum of digits in integer is:14\n"
     ]
    }
   ],
   "source": [
    "#Exercise 31:sum of digits in an integer\n",
    "digit = int(input(\"Enter four digit integer:\"))\n",
    "\n",
    "digit1 = digit % 10\n",
    "digit = int(digit/10)\n",
    "\n",
    "digit2 = digit % 10\n",
    "digit = int(digit/10)\n",
    "\n",
    "digit3 = digit % 10\n",
    "digit = int(digit/10)\n",
    "\n",
    "digit4 = digit % 10\n",
    "sum_digits = digit1 + digit2 + digit3 + digit4\n",
    "print(\"Sum of digits in integer is:%d\"%sum_digits)"
   ]
  },
  {
   "cell_type": "code",
   "execution_count": 70,
   "metadata": {
    "collapsed": false
   },
   "outputs": [
    {
     "name": "stdout",
     "output_type": "stream",
     "text": [
      "Enter the first number:32\n",
      "Enter the second number:12\n",
      "Enter the three number:45\n",
      "numbers in sorted order are 12,32,45\n"
     ]
    }
   ],
   "source": [
    "#Exercise 32:Sort 3 integers\n",
    "a = int(input(\"Enter the first number:\"))\n",
    "b = int(input(\"Enter the second number:\"))\n",
    "c = int(input(\"Enter the three number:\"))\n",
    "mn = min(a,b,c)\n",
    "mx = max(a,b,c)\n",
    "md = a + b + c - mn - mx\n",
    "print(\"numbers in sorted order are %d,%d,%d\"%(mn,md,mx))\n"
   ]
  },
  {
   "cell_type": "code",
   "execution_count": 72,
   "metadata": {
    "collapsed": false
   },
   "outputs": [
    {
     "name": "stdout",
     "output_type": "stream",
     "text": [
      "Enter the number of day old loaves: 5\n",
      "Regular price:17.45\n",
      "Discount price:10.47\n",
      "Total price: 6.98\n"
     ]
    }
   ],
   "source": [
    "#Exercise 33:Day old bread\n",
    "bread_price = 3.49\n",
    "discount_rate = 0.60\n",
    "\n",
    "loaves = int(input(\"Enter the number of day old loaves: \"))\n",
    "regular_price = loaves * bread_price\n",
    "discount = regular_price * discount_rate\n",
    "total = regular_price - discount \n",
    "\n",
    "print(\"Regular price:%5.2f\"%regular_price)\n",
    "print(\"Discount price:%5.2f\"%discount)\n",
    "print(\"Total price:%5.2f\"%total)"
   ]
  },
  {
   "cell_type": "code",
   "execution_count": null,
   "metadata": {
    "collapsed": true
   },
   "outputs": [],
   "source": []
  }
 ],
 "metadata": {
  "anaconda-cloud": {},
  "kernelspec": {
   "display_name": "Python [default]",
   "language": "python",
   "name": "python3"
  },
  "language_info": {
   "codemirror_mode": {
    "name": "ipython",
    "version": 3
   },
   "file_extension": ".py",
   "mimetype": "text/x-python",
   "name": "python",
   "nbconvert_exporter": "python",
   "pygments_lexer": "ipython3",
   "version": "3.5.2"
  }
 },
 "nbformat": 4,
 "nbformat_minor": 1
}
