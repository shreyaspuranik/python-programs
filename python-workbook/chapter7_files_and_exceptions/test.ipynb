{
 "cells": [
  {
   "cell_type": "code",
   "execution_count": 13,
   "metadata": {
    "collapsed": false
   },
   "outputs": [
    {
     "name": "stdout",
     "output_type": "stream",
     "text": [
      "shreyas puranik sahakarnagar no-2,pune -411009\n",
      "shreyas puranik sahakarnagar no-2,pune -411009\n",
      "shreyas puranik sahakarnagar no-2,pune -411009\n",
      "shreyas puranik sahakarnagar no-2,pune -411009\n",
      "shreyas puranik sahakarnagar no-2,pune -411009\n",
      "shreyas puranik sahakarnagar no-2,pune -411009\n",
      "shreyas puranik sahakarnagar no-2,pune -411009\n",
      "shreyas puranik sahakarnagar no-2,pune -411009\n",
      "shreyas puranik sahakarnagar no-2,pune -411009\n",
      "shreyas puranik sahakarnagar no-2,pune -411009\n"
     ]
    }
   ],
   "source": [
    "#Exercise 141:Display head\n",
    "%run ex141.py name_address\n"
   ]
  },
  {
   "cell_type": "code",
   "execution_count": 29,
   "metadata": {
    "collapsed": false
   },
   "outputs": [
    {
     "name": "stdout",
     "output_type": "stream",
     "text": [
      "Sinhagad institute of technology and science\n",
      "Department of computer engineering\n",
      "Sinhagad institute of technology and science\n",
      "Department of computer engineering\n",
      "Sinhagad institute of technology and science\n",
      "Department of computer engineering\n",
      "Sinhagad institute of technology and science\n",
      "Department of computer engineering\n",
      "Sinhagad institute of technology and science\n",
      "Department of computer engineering\n"
     ]
    }
   ],
   "source": [
    "#Exercise 142:Display tail of file\n",
    "%run ex142.py name_address"
   ]
  },
  {
   "cell_type": "code",
   "execution_count": 21,
   "metadata": {
    "collapsed": false
   },
   "outputs": [
    {
     "name": "stdout",
     "output_type": "stream",
     "text": [
      "shreyas puranik sahakarnagar no-2,pune -411009\n",
      "shreyas puranik sahakarnagar no-2,pune -411009\n",
      "shreyas puranik sahakarnagar no-2,pune -411009\n",
      "shreyas puranik sahakarnagar no-2,pune -411009\n",
      "shreyas puranik sahakarnagar no-2,pune -411009\n",
      "shreyas puranik sahakarnagar no-2,pune -411009\n",
      "shreyas puranik sahakarnagar no-2,pune -411009\n",
      "shreyas puranik sahakarnagar no-2,pune -411009\n",
      "shreyas puranik sahakarnagar no-2,pune -411009\n",
      "shreyas puranik sahakarnagar no-2,pune -411009\n",
      "shreyas puranik sahakarnagar no-2,pune -411009\n",
      "shreyas puranik sahakarnagar no-2,pune -411009\n",
      "shreyas puranik sahakarnagar no-2,pune -411009\n",
      "shreyas puranik sahakarnagar no-2,pune -411009\n",
      "shreyas puranik sahakarnagar no-2,pune -411009\n",
      "shreyas puranik sahakarnagar no-2,pune -411009\n",
      "shreyas puranik sahakarnagar no-2,pune -411009\n",
      "shreyas puranik sahakarnagar no-2,pune -411009\n",
      "shreyas puranik sahakarnagar no-2,pune -411009\n",
      "shreyas puranik sahakarnagar no-2,pune -411009\n",
      "shreyas puranik sahakarnagar no-2,pune -411009\n",
      "shreyas puranik sahakarnagar no-2,pune -411009\n",
      "shreyas puranik sahakarnagar no-2,pune -411009\n",
      "shreyas puranik sahakarnagar no-2,pune -411009\n",
      "shreyas puranik sahakarnagar no-2,pune -411009\n",
      "shreyas puranik sahakarnagar no-2,pune -411009\n",
      "shreyas puranik sahakarnagar no-2,pune -411009\n",
      "shreyas puranik sahakarnagar no-2,pune -411009\n",
      "shreyas puranik sahakarnagar no-2,pune -411009\n",
      "shreyas puranik sahakarnagar no-2,pune -411009\n",
      "shreyas puranik sahakarnagar no-2,pune -411009\n",
      "shreyas puranik sahakarnagar no-2,pune -411009\n",
      "shreyas puranik sahakarnagar no-2,pune -411009\n",
      "shreyas puranik sahakarnagar no-2,pune -411009\n",
      "\n",
      "Sinhagad institute of technology and science\n",
      "Department of computer engineering\n",
      "Sinhagad institute of technology and science\n",
      "Department of computer engineering\n",
      "Sinhagad institute of technology and science\n",
      "Department of computer engineering\n",
      "Sinhagad institute of technology and science\n",
      "Department of computer engineering\n",
      "Sinhagad institute of technology and science\n",
      "Department of computer engineering\n",
      "Sinhagad institute of technology and science\n",
      "Department of computer engineering\n",
      "Sinhagad institute of technology and science\n",
      "Department of computer engineering\n",
      "Sinhagad institute of technology and science\n",
      "Department of computer engineering\n",
      "Sinhagad institute of technology and science\n",
      "Department of computer engineering\n",
      "Sinhagad institute of technology and science\n",
      "Department of computer engineering\n",
      "Sinhagad institute of technology and science\n",
      "Department of computer engineering\n",
      "Sinhagad institute of technology and science\n",
      "Department of computer engineering\n",
      "Sinhagad institute of technology and science\n",
      "Department of computer engineering\n",
      "weight = 60kg,height = 172cm\n",
      "Blood Group:o+\n",
      "\n"
     ]
    }
   ],
   "source": [
    "#Exercise 143:Concatenate multiple files\n",
    "%run ex143.py name_address details\n"
   ]
  },
  {
   "cell_type": "code",
   "execution_count": 57,
   "metadata": {
    "collapsed": false
   },
   "outputs": [],
   "source": [
    "#Exercise 144:Number the lines in a file\n",
    "%run ex144.py name_address output\n"
   ]
  },
  {
   "cell_type": "code",
   "execution_count": 58,
   "metadata": {
    "collapsed": false
   },
   "outputs": [
    {
     "name": "stdout",
     "output_type": "stream",
     "text": [
      "The longest word(s) in the list is engineering and length is 11.\n"
     ]
    }
   ],
   "source": [
    "#Exercise 145:Find longest word in a file\n",
    "%run ex145.py name_address"
   ]
  },
  {
   "cell_type": "code",
   "execution_count": 74,
   "metadata": {
    "collapsed": false
   },
   "outputs": [
    {
     "name": "stdout",
     "output_type": "stream",
     "text": [
      "Enter a number:5\n",
      "Enter a number:4\n",
      "Enter a number:5\n",
      "Enter a number:23\n",
      "Enter a number:g\n",
      "Not a number\n",
      "Enter a number:4\n",
      "Enter a number:\n",
      "The grand total is 41.00\n"
     ]
    }
   ],
   "source": [
    "#Exercise 148:sum a list of numbers\n",
    "%run ex148.py\n"
   ]
  },
  {
   "cell_type": "code",
   "execution_count": 78,
   "metadata": {
    "collapsed": false
   },
   "outputs": [
    {
     "name": "stdout",
     "output_type": "stream",
     "text": [
      "Enter the name of the python file:ex145.py\n",
      "Enter the name of output file:output1234\n"
     ]
    }
   ],
   "source": [
    "#Remove comments from a file\n",
    "%run ex150.py\n"
   ]
  },
  {
   "cell_type": "code",
   "execution_count": 1,
   "metadata": {
    "collapsed": false
   },
   "outputs": [
    {
     "name": "stdout",
     "output_type": "stream",
     "text": [
      "The random password is: ElevenPune\n"
     ]
    }
   ],
   "source": [
    "#Two word random password\n",
    "%run ex151.py\n"
   ]
  },
  {
   "cell_type": "code",
   "execution_count": null,
   "metadata": {
    "collapsed": true
   },
   "outputs": [],
   "source": [
    "#"
   ]
  }
 ],
 "metadata": {
  "anaconda-cloud": {},
  "kernelspec": {
   "display_name": "Python [default]",
   "language": "python",
   "name": "python3"
  },
  "language_info": {
   "codemirror_mode": {
    "name": "ipython",
    "version": 3
   },
   "file_extension": ".py",
   "mimetype": "text/x-python",
   "name": "python",
   "nbconvert_exporter": "python",
   "pygments_lexer": "ipython3",
   "version": "3.5.2"
  }
 },
 "nbformat": 4,
 "nbformat_minor": 1
}
