{
 "cells": [
  {
   "cell_type": "code",
   "execution_count": 3,
   "metadata": {
    "collapsed": false
   },
   "outputs": [
    {
     "name": "stdout",
     "output_type": "stream",
     "text": [
      "Enter integer:33\n",
      "Integer is odd\n"
     ]
    }
   ],
   "source": [
    "#Exercise 34:Even or odd\n",
    "a = int(input(\"Enter integer:\"))\n",
    "if a%2 == 0:\n",
    "    print(\"Integer is even\")\n",
    "else:\n",
    "    print(\"Integer is odd\")"
   ]
  },
  {
   "cell_type": "code",
   "execution_count": 12,
   "metadata": {
    "collapsed": false
   },
   "outputs": [
    {
     "name": "stdout",
     "output_type": "stream",
     "text": [
      "Enter human year:4\n",
      "29\n"
     ]
    }
   ],
   "source": [
    "#Exercise 35:Dog years\n",
    "human_years = int(input(\"Enter human year:\"))\n",
    "if human_years <= 2:\n",
    "    dog_years = human_years * 10.5\n",
    "    print(dog_years)\n",
    "else:\n",
    "    dog_years = 21 + ((human_years-2) * 4 )\n",
    "    print(dog_years)"
   ]
  },
  {
   "cell_type": "code",
   "execution_count": 14,
   "metadata": {
    "collapsed": false
   },
   "outputs": [
    {
     "name": "stdout",
     "output_type": "stream",
     "text": [
      "Enter the letter:m\n",
      "letter is a consonant\n"
     ]
    }
   ],
   "source": [
    "#Exercise 36:Vowel or consonant\n",
    "letter = input(\"Enter the letter:\")\n",
    "if letter == 'a' or letter == 'e' or letter == 'i' or letter == 'o' or letter == 'u':\n",
    "    print(\"letter is a vowel\")\n",
    "else:\n",
    "    print(\"letter is a consonant\")"
   ]
  },
  {
   "cell_type": "code",
   "execution_count": 18,
   "metadata": {
    "collapsed": false
   },
   "outputs": [
    {
     "name": "stdout",
     "output_type": "stream",
     "text": [
      "Enter the number of sides:2\n",
      "number of sides not supported\n"
     ]
    }
   ],
   "source": [
    "#Exercise 37:Name that shape\n",
    "sides = int(input(\"Enter the number of sides:\"))\n",
    "if sides == 3:\n",
    "    print(\"shape is a triangle\")\n",
    "elif sides == 4:\n",
    "    print(\"shape is a qaudrilateral\")\n",
    "elif sides == 5:\n",
    "    print(\"shape is a pentagon\")\n",
    "elif sides == 6:\n",
    "    print(\"shape is hexagon\")\n",
    "elif sides == 7:\n",
    "    print(\"shape is heptagon\")\n",
    "elif sides == 8:\n",
    "    print(\"shape is octagon\")\n",
    "elif sides == 9:\n",
    "    print(\"shape is nonagon\")\n",
    "elif sides == 10:\n",
    "    print(\"shape is decagon\")\n",
    "else:\n",
    "    print(\"number of sides not supported\")"
   ]
  },
  {
   "cell_type": "code",
   "execution_count": 48,
   "metadata": {
    "collapsed": false
   },
   "outputs": [
    {
     "name": "stdout",
     "output_type": "stream",
     "text": [
      "Enter the name of the month:january\n",
      "january has 31 days\n"
     ]
    }
   ],
   "source": [
    "#Exercise 38:Month name to Number of days\n",
    "month = input(\"Enter the name of the month:\")\n",
    "if month == \"April\" or month == \"June\" or month == \"September\" or month == \"November\":\n",
    "    days = 30\n",
    "elif month == \"February\":\n",
    "    days = \"28 or 29\"\n",
    "else:\n",
    "    days = 31\n",
    "    \n",
    "print(month,\"has\",days,\"days\")"
   ]
  },
  {
   "cell_type": "code",
   "execution_count": 30,
   "metadata": {
    "collapsed": false
   },
   "outputs": [
    {
     "name": "stdout",
     "output_type": "stream",
     "text": [
      "Enter the sound levels in decibels:40\n",
      "Noise is Quiet room\n"
     ]
    }
   ],
   "source": [
    "#Exercise 39:Sound Levels\n",
    "sound_level = int(input(\"Enter the sound levels in decibels:\"))\n",
    "if sound_level == 130:\n",
    "    print(\"Noise is Jackhammer\")\n",
    "elif sound_level == 106:\n",
    "    print(\"Noise is Gas lawnmower\")\n",
    "elif sound_level == 70:\n",
    "    print(\"Noise is Alarm clock\")\n",
    "elif sound_level == 40:\n",
    "    print(\"Noise is Quiet room\")\n",
    "\n",
    "elif sound_level > 40 and sound_level < 70:\n",
    "    print(\"sound level is between noises Quiet room and Alarm clock\")\n",
    "elif sound_level > 70 and sound_level < 106:\n",
    "    print(\"sound level is between noises Alarm clock and Gas lawnmower\")\n",
    "elif sound_level > 106 and sound_level < 130:\n",
    "    print(\"sound level is between noises Gas lawnmower and Jackhammer\")\n",
    "elif sound_level > 130:\n",
    "    print(\"Sound level more than Jackhammer\")\n",
    "else:\n",
    "    print(\"Sound level less than Quiet room\")\n"
   ]
  },
  {
   "cell_type": "code",
   "execution_count": 37,
   "metadata": {
    "collapsed": false
   },
   "outputs": [
    {
     "name": "stdout",
     "output_type": "stream",
     "text": [
      "Enter the length of side1:3\n",
      "Enter the length of side2:1\n",
      "Enter the length of side3:5\n",
      "That is a scalene triangle\n"
     ]
    }
   ],
   "source": [
    "#### Exercise 40:Name that triangle\n",
    "side1 = float(input(\"Enter the length of side1:\"))\n",
    "side2 = float(input(\"Enter the length of side2:\"))\n",
    "side3 = float(input(\"Enter the length of side3:\"))\n",
    "\n",
    "if side1 == side2 and side2 == side3:\n",
    "    name = \"equilateral\"\n",
    "elif side1 == side2 or side2 == side3 or side1 == side3:\n",
    "    name = \"isoceles\"\n",
    "else:\n",
    "    name = \"scalene\"\n",
    "\n",
    "print(\"That is a %s triangle\"%name)"
   ]
  },
  {
   "cell_type": "code",
   "execution_count": 43,
   "metadata": {
    "collapsed": false
   },
   "outputs": [
    {
     "name": "stdout",
     "output_type": "stream",
     "text": [
      "Enter two character note name:B4\n",
      "The frequency of B4 is 493.880000\n"
     ]
    }
   ],
   "source": [
    "#Exercise 41:Note to Frequency\n",
    "freq_C4 = 261.63\n",
    "freq_D4 = 293.66\n",
    "freq_E4 = 329.63\n",
    "freq_F4 = 349.23\n",
    "freq_G4 = 392.00\n",
    "freq_A4 = 440.00\n",
    "freq_B4 = 493.88\n",
    "\n",
    "name = input(\"Enter two character note name:\")\n",
    "note = name[0]\n",
    "octave = int(name[1])\n",
    "if note == \"C\":\n",
    "    freq = freq_C4\n",
    "elif note == \"D\":\n",
    "    freq = freq_D4\n",
    "elif note == \"E\":\n",
    "    freq = freq_E4\n",
    "elif note == \"F\":\n",
    "    freq = freq_F4\n",
    "elif note == \"G\":\n",
    "    freq = freq_G4\n",
    "elif note == \"A\":\n",
    "    freq = freq_A4\n",
    "elif note == \"B\":\n",
    "    freq = freq_B4\n",
    "\n",
    "freq = freq / 2**(4 - octave)\n",
    "print(\"The frequency of %s is %f\"%(name,freq))"
   ]
  },
  {
   "cell_type": "code",
   "execution_count": 45,
   "metadata": {
    "collapsed": false
   },
   "outputs": [
    {
     "name": "stdout",
     "output_type": "stream",
     "text": [
      "Enter the frequency:261.63\n",
      "That frequency is C4\n"
     ]
    }
   ],
   "source": [
    "#Exercise 42:Frequency to Note\n",
    "freq_C4 = 261.63\n",
    "freq_D4 = 293.66\n",
    "freq_E4 = 329.63\n",
    "freq_F4 = 349.23\n",
    "freq_G4 = 392.00\n",
    "freq_A4 = 440.00\n",
    "freq_B4 = 493.88\n",
    "limit = 1\n",
    "\n",
    "freq = float(input(\"Enter the frequency:\"))\n",
    "\n",
    "if freq >= freq_C4 - limit and freq <= freq_C4 + limit:\n",
    "    note = \"C4\"\n",
    "elif freq >= freq_D4 - limit and freq <= freq_D4 + limit:\n",
    "    note = \"D4\"\n",
    "elif freq >= freq_E4 - limit and freq <= freq_E4 + limit:\n",
    "    note = \"E4\"\n",
    "elif freq >= freq_F4 - limit and freq <= freq_F4 + limit:\n",
    "    note = \"F4\"\n",
    "elif freq >= freq_G4 - limit and freq <= freq_G4 + limit:\n",
    "    note = \"G4\"\n",
    "elif freq >= freq_A4 - limit and freq <= freq_A4 + limit:\n",
    "    note = \"E4\"\n",
    "elif freq >= freq_B4 - limit and freq <= freq_B4 + limit:\n",
    "    note = \"B4\"\n",
    "else:\n",
    "    note = \"\"\n",
    "    \n",
    "if note == \"\":\n",
    "    print(\"No note corresponds to that frequency\")\n",
    "else:\n",
    "    print(\"That frequency is\",note)\n",
    "    \n",
    "    \n",
    "    "
   ]
  },
  {
   "cell_type": "code",
   "execution_count": 57,
   "metadata": {
    "collapsed": false
   },
   "outputs": [
    {
     "name": "stdout",
     "output_type": "stream",
     "text": [
      "Enter the denomination of bank note:100\n",
      "Benjamin Franklin appears on $100 note\n"
     ]
    }
   ],
   "source": [
    "#Exercise 43:Faces on Money\n",
    "amount = int(input(\"Enter the denomination of bank note:\"))\n",
    "if amount == 1:\n",
    "    print(\"George Washington appears on $%1 note\")\n",
    "elif amount == 2:\n",
    "    print(\"Thomas Jefferson appears on $2 note\")\n",
    "elif amount == 5:\n",
    "    print(\"Abraham Lincoln appears on $5 note\")\n",
    "elif amount == 10:\n",
    "    print(\"Alexander Hamilton appears on $10 note\")\n",
    "elif amount == 20:\n",
    "    print(\"Andrew Jackson appears on $20 note\")\n",
    "elif amount == 50:\n",
    "    print(\"Ulysses S.Grant appears on $50 note\")\n",
    "elif amount == 100:\n",
    "    print(\"Benjamin Franklin appears on $100 note\")\n",
    "else:\n",
    "    print(\"No such note exists\")\n",
    "    \n"
   ]
  },
  {
   "cell_type": "code",
   "execution_count": 69,
   "metadata": {
    "collapsed": false
   },
   "outputs": [
    {
     "name": "stdout",
     "output_type": "stream",
     "text": [
      "Enter the month:october\n",
      "Enter the day:23\n",
      "entered month and day do not correspond to a fixed-date holiday\n"
     ]
    }
   ],
   "source": [
    "#Exercise 44:Date to holiday name\n",
    "month = input(\"Enter the month:\")\n",
    "date = int(input(\"Enter the day:\"))\n",
    "if (month == \"January\" or month == \"january\") and date == 1:\n",
    "    print(\"New year's day\")\n",
    "elif (month == \"July\" or month == \"july\") and date == 1:\n",
    "    print(\"Canada day\")\n",
    "elif (month == \"December\" or month == \"december\") and date == 25:\n",
    "    print(\"Christmas\")\n",
    "else:\n",
    "    print(\"entered month and day do not correspond to a fixed-date holiday\")\n",
    "\n",
    "    "
   ]
  },
  {
   "cell_type": "code",
   "execution_count": 84,
   "metadata": {
    "collapsed": false
   },
   "outputs": [
    {
     "name": "stdout",
     "output_type": "stream",
     "text": [
      "Enter the position on chess board:b2\n",
      "Color of the square is black\n"
     ]
    }
   ],
   "source": [
    "#Exercise 45:What color is that sqaure?\n",
    "position = input(\"Enter the position on chess board:\")\n",
    "column = position[0]\n",
    "row = int(position[1])\n",
    "if column == \"a\" or column == \"c\" or column == \"e\" or column == \"g\":\n",
    "    column_begin = \"black\"\n",
    "else:\n",
    "    column_begin = \"white\"\n",
    "\n",
    "if column_begin == 'black' and row%2 == 0:\n",
    "    color = \"white\"\n",
    "elif column_begin == 'white' and row%2 == 0:\n",
    "    color = \"black\"\n",
    "\n",
    "print(\"Color of the square is %s\"%color)"
   ]
  },
  {
   "cell_type": "code",
   "execution_count": 88,
   "metadata": {
    "collapsed": false
   },
   "outputs": [
    {
     "name": "stdout",
     "output_type": "stream",
     "text": [
      "Enter the month:January\n",
      "Enter the day:2\n",
      "January 1 is in Winter\n"
     ]
    }
   ],
   "source": [
    "#Exercise 46:Season from month and day\n",
    "month = input(\"Enter the month:\")\n",
    "date = int(input(\"Enter the day:\"))\n",
    "if month == \"January\" or month == \"February\":\n",
    "    season = \"Winter\"\n",
    "\n",
    "elif month == \"March\":\n",
    "    if day < 20:\n",
    "        season = \"Winter\"\n",
    "    else:\n",
    "        season = \"Spring\"\n",
    "elif month == \"April\" or month == \"May\":\n",
    "    season = \"Spring\"\n",
    "\n",
    "elif month == \"June\":\n",
    "    if day < 21:\n",
    "        season = \"Spring\"\n",
    "    else:\n",
    "        season = \"Summer\"\n",
    "\n",
    "elif month == \"July\" or month == \"August\":\n",
    "    season = \"Summer\"\n",
    "\n",
    "elif month == \"September\":\n",
    "    if day < 22:\n",
    "        season = \"Summer\"\n",
    "    else:\n",
    "        season = \"Fall\"\n",
    "\n",
    "elif month == \"October\" or month == \"November\":\n",
    "    season = \"Fall\"\n",
    "\n",
    "elif month == \"December\":\n",
    "    if day < 21:\n",
    "        season = \"Fall\"\n",
    "    else:\n",
    "        season = \"Winter\"\n",
    "    \n",
    "print(month, day, \"is in\", season)  \n"
   ]
  },
  {
   "cell_type": "code",
   "execution_count": 91,
   "metadata": {
    "collapsed": false
   },
   "outputs": [
    {
     "name": "stdout",
     "output_type": "stream",
     "text": [
      "Enter the month:February\n",
      "Enter the day of birth:12\n",
      "Zodiac sign is Aquarius\n"
     ]
    }
   ],
   "source": [
    "#Exercise47 Birth Date to Astrological Sign\n",
    "month = input(\"Enter the month:\")\n",
    "date = int(input(\"Enter the day of birth:\"))\n",
    "if month == \"December\":\n",
    "    if day > 21:\n",
    "        zodiac = \"Capricon\"\n",
    "    else:\n",
    "        zodiac = \"Sagittarius\"\n",
    "\n",
    "elif month == \"January\":\n",
    "    if day > 19:\n",
    "        zodiac = \"Aquarius\"\n",
    "    else:\n",
    "        zodiac = \"Capricon\"\n",
    "        \n",
    "elif month == \"February\":\n",
    "    if day > 18:\n",
    "        zodiac = \"Pisces\"\n",
    "    else:\n",
    "        zodiac = \"Aquarius\"\n",
    "        \n",
    "elif month == \"March\":\n",
    "    if day > 20:\n",
    "        zodiac = \"Aries\"\n",
    "    else:\n",
    "        zodiac = \"Pisces\"\n",
    "        \n",
    "elif month == \"April\":\n",
    "    if day > 19:\n",
    "        zodiac = \"Taurus\"\n",
    "    else:\n",
    "        zodiac = \"Aries\"\n",
    "        \n",
    "elif month == \"May\":\n",
    "    if day > 20:\n",
    "        zodiac = \"Gemini\"\n",
    "    else:\n",
    "        zodiac = \"Taurus\"\n",
    "        \n",
    "elif month == \"June\":\n",
    "    if day > 20:\n",
    "        zodiac = \"Cancer\"\n",
    "    else:\n",
    "        zodiac = \"Gemini\"\n",
    "        \n",
    "elif month == \"July\":\n",
    "    if day > 22:\n",
    "        zodiac = \"Leo\"\n",
    "    else:\n",
    "        zodiac = \"Cancer\"\n",
    "        \n",
    "elif month == \"August\":\n",
    "    if day > 22:\n",
    "        zodiac = \"Virgo\"\n",
    "    else:\n",
    "        zodiac = \"Leo\"\n",
    "        \n",
    "elif month == \"September\":\n",
    "    if day > 22:\n",
    "        zodiac = \"Libra\"\n",
    "    else:\n",
    "        zodiac = \"Virgo\"\n",
    "        \n",
    "elif month == \"October\":\n",
    "    if day > 22:\n",
    "        zodiac = \"Scorpio\"\n",
    "    else:\n",
    "        zodiac = \"Libra\"\n",
    "        \n",
    "elif month == \"November\":\n",
    "    if day > 21:\n",
    "        zodiac = \"Sagittarius\"\n",
    "    else:\n",
    "        zodiac = \"Scorpio\"\n",
    "        \n",
    "print(\"Zodiac sign is %s\"%zodiac)"
   ]
  },
  {
   "cell_type": "code",
   "execution_count": 122,
   "metadata": {
    "collapsed": false
   },
   "outputs": [
    {
     "name": "stdout",
     "output_type": "stream",
     "text": [
      "Enter the year:2011\n",
      "2011 year has animal Hare\n"
     ]
    }
   ],
   "source": [
    "#Exercise 48:Chinese Zodiac\n",
    "year = int(input(\"Enter the year:\"))\n",
    "\n",
    "if year % 12 == 8:\n",
    "    animal = \"Dragon\"\n",
    "elif year % 12 == 9:\n",
    "    animal = \"Snake\"\n",
    "elif year % 12 == 10:\n",
    "    animal = \"Horse\"\n",
    "elif year % 12 == 11:\n",
    "    animal = \"Sheep\"        \n",
    "elif year % 12 == 0:\n",
    "    animal = \"Monkey\"\n",
    "elif year % 12 == 1:\n",
    "    animal = \"Rooster\"\n",
    "elif year % 12 == 2:\n",
    "    animal = \"Dog\"\n",
    "elif year % 12 == 3:\n",
    "    animal = \"Pig\"\n",
    "elif year % 12 == 4:\n",
    "    animal = \"Rat\"\n",
    "elif year % 12 == 5:\n",
    "    animal = \"Ox\"\n",
    "elif year % 12 == 6:\n",
    "    animal = \"Tiger\"\n",
    "elif year % 12 == 7:\n",
    "    animal = \"Hare\"\n",
    "    \n",
    "print(\"%d year has animal %s\"%(year,animal))"
   ]
  },
  {
   "cell_type": "code",
   "execution_count": 125,
   "metadata": {
    "collapsed": false
   },
   "outputs": [
    {
     "name": "stdout",
     "output_type": "stream",
     "text": [
      "Enter the magnitude of earthquake:2.4\n",
      "Earthquake of magnitude 2.400000 is Very minor\n"
     ]
    }
   ],
   "source": [
    "#Exercise 49:Richter scale\n",
    "\n",
    "magnitude = float(input(\"Enter the magnitude of earthquake:\"))\n",
    "\n",
    "if magnitude < 2.00:\n",
    "    earthquake = \"micro\"\n",
    "elif magnitude > 2.00 and magnitude < 3.0:\n",
    "    earthquake = \"Very minor\"\n",
    "elif magnitude > 3.00 and magnitude < 4.0:\n",
    "    earthquake = \"Very minor\"\n",
    "elif magnitude > 4.00 and magnitude < 5.0:\n",
    "    earthquake = \"Very minor\"\n",
    "elif magnitude > 5.00 and magnitude < 6.0:\n",
    "    earthquake = \"Very minor\"\n",
    "elif magnitude > 6.00 and magnitude < 7.0:\n",
    "    earthquake = \"Very minor\"\n",
    "elif magnitude > 7.00 and magnitude < 8.0:\n",
    "    earthquake = \"Very minor\"\n",
    "elif magnitude > 8.00 and magnitude < 10.0:\n",
    "    earthquake = \"Very minor\"\n",
    "else:\n",
    "    earthquake = \"Meteoric\"\n",
    "    \n",
    "print(\"Earthquake of magnitude %f is %s\"%(magnitude,earthquake))\n"
   ]
  },
  {
   "cell_type": "code",
   "execution_count": 141,
   "metadata": {
    "collapsed": false
   },
   "outputs": [
    {
     "name": "stdout",
     "output_type": "stream",
     "text": [
      "Enter the value of a:1\n",
      "Enter the value of b:7\n",
      "Enter the value of c:12\n",
      "Equation has 2 real roots\n",
      "Root1:-3.000000\n",
      "Root2:-4.000000\n"
     ]
    }
   ],
   "source": [
    "#Exercise 50:Roots of quadratic equation\n",
    "#ax**2 + bx + c\n",
    "import math\n",
    "a = float(input(\"Enter the value of a:\"))\n",
    "b = float(input(\"Enter the value of b:\"))\n",
    "c = float(input(\"Enter the value of c:\"))\n",
    "\n",
    "discriminant = b**2 - (4*a*c)\n",
    "#root1 = (-b + sqrt(b**2 - (4*a*c)))/ 2*a\n",
    "#root2 = (-b + math.sqrt(b**2 - (4*a*c)))/ 2*a\n",
    "\n",
    "if discriminant < 0:\n",
    "    print(\"Equation does not have any real roots\")\n",
    "elif discriminant == 0:\n",
    "    root1 = (-b + sqrt(b**2 - (4*a*c)))/ 2*a\n",
    "    print(\"Equation has 1 real root:%f\"%root1)\n",
    "else:\n",
    "    root1 = (-b + sqrt(b**2 - (4*a*c)))/ 2*a\n",
    "    root2 = (-b - math.sqrt(b**2 - (4*a*c)))/ 2*a\n",
    "    print(\"Equation has 2 real roots\")\n",
    "    print(\"Root1:%f\"%root1)\n",
    "    print(\"Root2:%f\"%root2)"
   ]
  },
  {
   "cell_type": "code",
   "execution_count": 145,
   "metadata": {
    "collapsed": false
   },
   "outputs": [
    {
     "name": "stdout",
     "output_type": "stream",
     "text": [
      "Enter the letter grade:C+\n",
      "grade points are:2.300000\n"
     ]
    }
   ],
   "source": [
    "#Exercise 51:Letter Grade to Grade Points\n",
    "\n",
    "letter = input(\"Enter the letter grade:\")\n",
    "letter = letter.upper()\n",
    "\n",
    "if letter == \"A+\" or letter == \"A\":\n",
    "    gp = 4.0\n",
    "elif letter == \"A-\":\n",
    "    gp = 3.7\n",
    "elif letter == \"B+\":\n",
    "    gp = 3.3\n",
    "elif letter == \"B-\":\n",
    "    gp = 2.7\n",
    "elif letter == \"C+\":\n",
    "    gp = 2.3\n",
    "elif letter == \"C\":\n",
    "    gp = 2.0\n",
    "elif letter == \"C-\":\n",
    "    gp = 1.7\n",
    "elif letter == \"D+\":\n",
    "    gp = 1.3\n",
    "elif letter == \"D\":\n",
    "    gp = 1.0\n",
    "elif letter == \"F\":\n",
    "    gp = 0\n",
    "else:\n",
    "    gp = -1\n",
    "    \n",
    "if gp == -1:\n",
    "    print(\"not vaid number of grade points\")\n",
    "else:\n",
    "    print(\"grade points are:%f\"%gp)"
   ]
  },
  {
   "cell_type": "code",
   "execution_count": 147,
   "metadata": {
    "collapsed": false
   },
   "outputs": [
    {
     "name": "stdout",
     "output_type": "stream",
     "text": [
      "Enter the grade point:3.2\n",
      "Grade:B-\n"
     ]
    }
   ],
   "source": [
    "#Exercise 52:Grade points to letter grade\n",
    "gp = float(input(\"Enter the grade point:\"))\n",
    "\n",
    "if gp == 4.0 or gp > 4.0:\n",
    "    grade = \"A+\"\n",
    "elif gp < 4.0 and gp >= 3.7:\n",
    "    grade = \"A-\"\n",
    "elif gp < 3.7 and gp >= 3.3:\n",
    "    grade = \"B+\"\n",
    "elif gp < 3.3 and gp >= 2.7:\n",
    "    grade = \"B-\"\n",
    "elif gp < 2.7 and gp >= 2.3:\n",
    "    grade = \"C+\"\n",
    "elif gp < 2.3 and gp >= 2.0:\n",
    "    grade = \"C\"\n",
    "elif gp < 2.0 and gp > 1.7:\n",
    "    grade = \"C-\"\n",
    "elif gp < 1.7 and gp > 1.3:\n",
    "    grade = \"D+\"\n",
    "elif gp < 1.3 and gp > 1.0:\n",
    "    grade = \"D\"\n",
    "elif gp == 0:\n",
    "    grade = \"F\"\n",
    "else:\n",
    "    grade = \"not valid\"\n",
    "    \n",
    "print(\"Grade:%s\"%grade)"
   ]
  },
  {
   "cell_type": "code",
   "execution_count": 154,
   "metadata": {
    "collapsed": false
   },
   "outputs": [
    {
     "name": "stdout",
     "output_type": "stream",
     "text": [
      "Enter the rating:0.3\n",
      "Invalid rating\n"
     ]
    }
   ],
   "source": [
    "#Exercise 53:Assessing Employees\n",
    "raise_factor = 2400.00\n",
    "unacceptable = 0\n",
    "acceptable = 0.4\n",
    "meritorious = 0.6\n",
    "\n",
    "rating = float(input(\"Enter the rating:\"))\n",
    "\n",
    "if rating == unacceptable:\n",
    "    performance = \"unacceptable\"\n",
    "elif rating == acceptable:\n",
    "    performance = \"acceptable\"\n",
    "elif rating >= meritorious:\n",
    "    performance = \"meritorious\"\n",
    "else:\n",
    "    performance = \"\"\n",
    "    \n",
    "if performance == \"\":\n",
    "    print(\"Invalid rating\")\n",
    "else:\n",
    "    print(\"Performance is %s\"%performance)\n",
    "    print(\"You wi recieve raise of $%.2f\"%(rating * raise_factor))\n"
   ]
  },
  {
   "cell_type": "code",
   "execution_count": 158,
   "metadata": {
    "collapsed": false
   },
   "outputs": [
    {
     "name": "stdout",
     "output_type": "stream",
     "text": [
      "Enter the value of wavelength in nanometres400\n",
      "color for wavelength 400 is violet\n"
     ]
    }
   ],
   "source": [
    "#Exercise 54:Wavelengths of Visible lights\n",
    "wv = int(input(\"Enter the value of wavelength in nanometres\"))\n",
    "if wv >= 380 and wv < 450:\n",
    "    color = \"violet\"\n",
    "elif wv >= 450 and wv < 495:\n",
    "    color = \"violet\"\n",
    "elif wv >= 495 and wv < 570:\n",
    "    color = \"violet\"\n",
    "elif wv >= 570 and wv < 590:\n",
    "    color = \"violet\"\n",
    "elif wv >= 590 and wv < 620:\n",
    "    color = \"violet\"\n",
    "elif wv >= 620 and wv <= 750:\n",
    "    color = \"violet\"\n",
    "else:\n",
    "    print(\"wavelength outside of visible spectrum\")\n",
    "    \n",
    "print(\"color for wavelength %d is %s\"%(wv,color))"
   ]
  },
  {
   "cell_type": "code",
   "execution_count": 44,
   "metadata": {
    "collapsed": false
   },
   "outputs": [
    {
     "name": "stdout",
     "output_type": "stream",
     "text": [
      "Enter the number of minutes:35\n",
      "Enter the number of messages:33\n",
      "Total bill is $15.77\n"
     ]
    }
   ],
   "source": [
    "#Exercise 56:Cell phone bill\n",
    "base_price = 15.00\n",
    "add_airtime = 0.25\n",
    "add_text = 0.15\n",
    "call_centre_charge = 0.44\n",
    "\n",
    "minutes = int(input(\"Enter the number of minutes:\"))\n",
    "messages = int(input(\"Enter the number of messages:\"))\n",
    "\n",
    "if messages > 50 and minutes > 50:\n",
    "    base_price = base_price + ((messages - 50) * 0.15) + ((minutes - 50) * 0.25)\n",
    "\n",
    "elif messages > 50 and minutes <= 50:\n",
    "    base_price = base_price + ((messages - 50) * 0.15) \n",
    "    \n",
    "elif minutes > 50 and messages <= 50:\n",
    "    base_price = base_price + ((minutes - 50) * 0.25)\n",
    "else:\n",
    "    base_price = base_price\n",
    "    \n",
    "\n",
    "total_price = base_price + (base_price + 0.44) * 0.05\n",
    "print(\"Total bill is $%.2f\"%total_price)"
   ]
  },
  {
   "cell_type": "code",
   "execution_count": 4,
   "metadata": {
    "collapsed": false
   },
   "outputs": [
    {
     "name": "stdout",
     "output_type": "stream",
     "text": [
      "Enter the year:2015\n",
      "Year is not a leap year\n"
     ]
    }
   ],
   "source": [
    "#Exercise 57:Is it leap year\n",
    "year = int(input(\"Enter the year:\"))\n",
    "if year % 400 == 0:\n",
    "        isLeapYear = True\n",
    "elif year % 100 == 0:\n",
    "    isLeapYear = False\n",
    "elif year % 4 == 0:\n",
    "    isLeapYear = True\n",
    "else:\n",
    "    isLeapYear = False\n",
    "        \n",
    "if isLeapYear:\n",
    "    print(\"Year is a Leap year\")\n",
    "else:\n",
    "    print(\"Year is not a leap year\")"
   ]
  },
  {
   "cell_type": "code",
   "execution_count": 20,
   "metadata": {
    "collapsed": false
   },
   "outputs": [
    {
     "name": "stdout",
     "output_type": "stream",
     "text": [
      "Enter the date\n",
      "year:2013\n",
      "month:2\n",
      "day:28\n",
      "date is 2013-2-28\n",
      "Next day is 2013-3-1\n"
     ]
    }
   ],
   "source": [
    "#Exercise 58:Next Day\n",
    "print(\"Enter the date\")\n",
    "year = int(input(\"year:\"))\n",
    "month = int(input(\"month:\"))\n",
    "day = int(input(\"day:\"))\n",
    "print(\"date is %d-%d-%d\"%(year,month,day))\n",
    "\n",
    "if month == 12 and day == 31:\n",
    "    new_year = year + 1\n",
    "else:\n",
    "    new_year = year\n",
    "\n",
    "#if month >=1 and month < 12 and (day == 30 or day == 31):\n",
    "if (month == 1 or month == 3 or month == 5 or month == 7 or month == 8 or month == 10 or month == 12) and day == 31:\n",
    "    new_month = month + 1\n",
    "elif (month == 4 or month == 6 or month == 9 or month == 11 ) and day == 30:\n",
    "    new_month = month + 1\n",
    "elif month == 2 and day == 28:\n",
    "    new_month = month + 1\n",
    "elif month == 12:\n",
    "    new_month = 1\n",
    "else:\n",
    "    new_month = month\n",
    "    \n",
    "if month == 2 and day == 28:\n",
    "    new_day = 1\n",
    "elif (month == 1 or month == 3 or month == 5 or month == 7 or month == 8 or month == 10 or month == 12) and day == 31:\n",
    "    new_day = 1\n",
    "elif (month == 2 or month == 4 or month == 6 or month == 9 or month == 11 ) and day == 30:\n",
    "    new_day = 1\n",
    "elif (month >= 1 and month <= 12) and (day >= 1 and day <= 30):\n",
    "    new_day = day + 1\n",
    "\n",
    "\n",
    "print(\"Next day is %d-%d-%d\"%(new_year,new_month,new_day))"
   ]
  },
  {
   "cell_type": "code",
   "execution_count": 35,
   "metadata": {
    "collapsed": false
   },
   "outputs": [
    {
     "name": "stdout",
     "output_type": "stream",
     "text": [
      "Enter the string of characters for license:1A1A\n",
      "License plate is not valid\n"
     ]
    }
   ],
   "source": [
    "#Exercise 59:Is a License plate valid\n",
    "license = input(\"Enter the string of characters for license:\")\n",
    "if len(license) == 6  and license[0] >= \"A\" and license[0] <= \"Z\" and \\\n",
    "    license[1] >= \"A\" and license[1] <= \"Z\" and \\\n",
    "    license[2] >= \"A\" and license[2] <= \"Z\" and \\\n",
    "    license[3] >= \"0\" and license[3] <= \"9\" and \\\n",
    "    license[4] >= \"0\" and license[4] <= \"9\" and \\\n",
    "    license[5] >= \"0\" and license[5] <= \"9\":\n",
    "        print(\"plate is valid older style plate\")\n",
    "\n",
    "elif len(license) == 7  and license[0] >= \"0\" and license[0] <= \"9\" and \\\n",
    "    license[1] >= \"0\" and license[1] <= \"9\" and \\\n",
    "    license[2] >= \"0\" and license[2] <= \"9\" and \\\n",
    "    license[3] >= \"0\" and license[3] <= \"9\" and \\\n",
    "    license[4] >= \"A\" and license[4] <= \"Z\" and \\\n",
    "    license[5] >= \"A\" and license[5] <= \"Z\" and \\\n",
    "    license[6] >= \"A\" and license[6] <= \"Z\":\n",
    "        print(\"plate is valid new style plate\")\n",
    "\n",
    "else:\n",
    "    print(\"License plate is not valid\")"
   ]
  },
  {
   "cell_type": "code",
   "execution_count": 40,
   "metadata": {
    "collapsed": false
   },
   "outputs": [
    {
     "name": "stdout",
     "output_type": "stream",
     "text": [
      "The spin resulted in 35\n",
      "pay 35\n",
      "pay black\n",
      "pay odd\n",
      "Pay 19 to 36\n"
     ]
    }
   ],
   "source": [
    "#Exercise 60:Roulette payouts\n",
    "from random import randrange\n",
    "\n",
    "value = randrange(0,38)\n",
    "if value == 37:\n",
    "    print(\"The spin resulted in 00\")\n",
    "else:\n",
    "    print(\"The spin resulted in %d\"%value)\n",
    "    \n",
    "if value == 37:\n",
    "    print(\"pay 00\")\n",
    "else:\n",
    "    print(\"pay %d\"%value)\n",
    "    \n",
    "if value%2 == 1 and value >= 1 and value <= 9 or \\\n",
    "   value%2 == 0 and value >= 12 and value <= 18 or \\\n",
    "   value%2 == 1 and value >= 19 and value <= 27 or \\\n",
    "   value%2 == 0 and value >= 30 and value <= 36:\n",
    "        print(\"pay red\")\n",
    "elif value == 0 or value == 37:\n",
    "    pass\n",
    "else:\n",
    "    print(\"pay black\")\n",
    "    \n",
    "if value >= 1 and value <= 36:\n",
    "    if value % 2 == 1:\n",
    "        print(\"pay odd\")\n",
    "    else:\n",
    "        print(\"pay even\")\n",
    "        \n",
    "if value >= 1 and value <= 18:\n",
    "    print(\"Pay 1 to 18\")\n",
    "elif value >= 19 and value <= 36:\n",
    "    print(\"Pay 19 to 36\")"
   ]
  },
  {
   "cell_type": "code",
   "execution_count": null,
   "metadata": {
    "collapsed": true
   },
   "outputs": [],
   "source": []
  }
 ],
 "metadata": {
  "anaconda-cloud": {},
  "kernelspec": {
   "display_name": "Python [default]",
   "language": "python",
   "name": "python3"
  },
  "language_info": {
   "codemirror_mode": {
    "name": "ipython",
    "version": 3
   },
   "file_extension": ".py",
   "mimetype": "text/x-python",
   "name": "python",
   "nbconvert_exporter": "python",
   "pygments_lexer": "ipython3",
   "version": "3.5.2"
  }
 },
 "nbformat": 4,
 "nbformat_minor": 1
}
