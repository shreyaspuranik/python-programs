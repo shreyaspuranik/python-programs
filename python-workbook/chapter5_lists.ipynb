{
 "cells": [
  {
   "cell_type": "code",
   "execution_count": 2,
   "metadata": {
    "collapsed": false
   },
   "outputs": [
    {
     "name": "stdout",
     "output_type": "stream",
     "text": [
      "Enter an integer(0 to quit):4\n",
      "Enter an integer (0 to quit)1\n",
      "Enter an integer (0 to quit)9\n",
      "Enter an integer (0 to quit)23\n",
      "Enter an integer (0 to quit)12\n",
      "Enter an integer (0 to quit)0\n",
      "Sorted list is:\n",
      "1\n",
      "4\n",
      "9\n",
      "12\n",
      "23\n"
     ]
    }
   ],
   "source": [
    "#Exercise 104:Sorted order\n",
    "list1 = []\n",
    "num = int(input(\"Enter an integer(0 to quit):\"))\n",
    "while num != 0:\n",
    "    list1.append(num)\n",
    "    num = int(input(\"Enter an integer (0 to quit)\"))\n",
    "    \n",
    "list1.sort()\n",
    "print(\"Sorted list is:\")\n",
    "for i in list1:\n",
    "    print(i)"
   ]
  },
  {
   "cell_type": "code",
   "execution_count": 4,
   "metadata": {
    "collapsed": false
   },
   "outputs": [
    {
     "name": "stdout",
     "output_type": "stream",
     "text": [
      "Enter an integer(0 to quit):3\n",
      "Enter an integer (0 to quit)4\n",
      "Enter an integer (0 to quit)2\n",
      "Enter an integer (0 to quit)1\n",
      "Enter an integer (0 to quit)2\n",
      "Enter an integer (0 to quit)0\n",
      "reversed list is:\n",
      "2\n",
      "1\n",
      "2\n",
      "4\n",
      "3\n"
     ]
    }
   ],
   "source": [
    "#Exercise 105:Reverse list\n",
    "list1 = []\n",
    "num = int(input(\"Enter an integer(0 to quit):\"))\n",
    "while num != 0:\n",
    "    list1.append(num)\n",
    "    num = int(input(\"Enter an integer (0 to quit)\"))\n",
    "    \n",
    "list1.reverse()\n",
    "print(\"reversed list is:\")\n",
    "for i in list1:\n",
    "    print(i)"
   ]
  },
  {
   "cell_type": "code",
   "execution_count": 21,
   "metadata": {
    "collapsed": false
   },
   "outputs": [
    {
     "name": "stdout",
     "output_type": "stream",
     "text": [
      "Enter the value(Blank to quit):4\n",
      "Enter the value(Blank to quit):3\n",
      "Enter the value(Blank to quit):4\n",
      "Enter the value(Blank to quit):3\n",
      "Enter the value(Blank to quit):4\n",
      "Enter the value(Blank to quit):3\n",
      "Enter the value(Blank to quit):\n",
      "With outiers removed:[3.0, 4.0]\n",
      "The original data:[4.0, 3.0, 4.0, 3.0, 4.0, 3.0]\n"
     ]
    }
   ],
   "source": [
    "#Exercise 106:Remove outliers\n",
    "\n",
    "def removeOutliers(list1,num_outliers):\n",
    "    retval = sorted(list1)\n",
    "    \n",
    "    for i in range(num_outliers):\n",
    "        retval.pop()\n",
    "    for i in range(num_outliers):\n",
    "        retval.pop(0)\n",
    "        \n",
    "    return retval\n",
    "\n",
    "def main():\n",
    "    values = []\n",
    "    s = input(\"Enter the value(Blank to quit):\")\n",
    "    while s != \"\":\n",
    "        num = float(s)\n",
    "        values.append(num)\n",
    "        s = input(\"Enter the value(Blank to quit):\")\n",
    "    if len(values) < 4:\n",
    "        print(\"Not enough values\")\n",
    "    else:\n",
    "        print(\"With outiers removed:%s\"%removeOutliers(values,2))\n",
    "        print(\"The original data:%s\"%values)\n",
    "main()\n"
   ]
  },
  {
   "cell_type": "code",
   "execution_count": 39,
   "metadata": {
    "collapsed": false
   },
   "outputs": [
    {
     "name": "stdout",
     "output_type": "stream",
     "text": [
      "word::shreyas\n",
      "word::shreyas\n",
      "word::sunil\n",
      "word::harshal\n",
      "word::savita\n",
      "word::\n",
      "FInal list after removing duplicates:['shreyas', 'sunil', 'harshal', 'savita']\n"
     ]
    }
   ],
   "source": [
    "#Exercise 107:Avoid duplicates\n",
    "list1 = []\n",
    "word = input(\"word::\")\n",
    "while word != \"\":\n",
    "    if word not in list1:\n",
    "        list1.append(word)\n",
    "    word = input(\"word::\")\n",
    "print(\"FInal list after removing duplicates:%s\"%list1)"
   ]
  },
  {
   "cell_type": "code",
   "execution_count": 3,
   "metadata": {
    "collapsed": false
   },
   "outputs": [
    {
     "name": "stdout",
     "output_type": "stream",
     "text": [
      "Enter an integer(blank to quit):3\n",
      "Enter an integer(blank to quit):4\n",
      "Enter an integer(blank to quit):5\n",
      "Enter an integer(blank to quit):6\n",
      "Enter an integer(blank to quit):0\n",
      "Enter an integer(blank to quit):0\n",
      "Enter an integer(blank to quit):0\n",
      "Enter an integer(blank to quit):-1\n",
      "Enter an integer(blank to quit):-5\n",
      "Enter an integer(blank to quit):-7\n",
      "Enter an integer(blank to quit):\n",
      "-1\n",
      "-5\n",
      "-7\n",
      "0\n",
      "0\n",
      "0\n",
      "3\n",
      "4\n",
      "5\n",
      "6\n"
     ]
    }
   ],
   "source": [
    "#Exercise 108:Negatives,Zeros and positives\n",
    "\n",
    "negatives = []\n",
    "zeros = []\n",
    "positives = []\n",
    "\n",
    "line = input(\"Enter an integer(blank to quit):\")\n",
    "while line != \"\":\n",
    "    num = int(line)\n",
    "    \n",
    "    if num < 0:\n",
    "        negatives.append(num)\n",
    "    elif num > 0:\n",
    "        positives.append(num)\n",
    "    else:\n",
    "        zeros.append(num)\n",
    "        \n",
    "    line = input(\"Enter an integer(blank to quit):\")\n",
    "        \n",
    "for i in negatives:\n",
    "    print(i)\n",
    "    \n",
    "for i in zeros:\n",
    "    print(i)\n",
    "    \n",
    "for i in positives:\n",
    "    print(i)"
   ]
  },
  {
   "cell_type": "code",
   "execution_count": 13,
   "metadata": {
    "collapsed": false
   },
   "outputs": [
    {
     "name": "stdout",
     "output_type": "stream",
     "text": [
      "Enter a number:9\n",
      "Divisors of 9 are:[1, 3]\n"
     ]
    }
   ],
   "source": [
    "#Exercise 109:List of proper divisors\n",
    "def proper_divisors(integer):\n",
    "    divisors = []\n",
    "    for i in range(1,integer):\n",
    "        if integer % i == 0:\n",
    "            divisors.append(i)\n",
    "    return divisors \n",
    "    \n",
    "def main():\n",
    "    num = int(input(\"Enter a number:\"))\n",
    "    print(\"Divisors of %d are:%s\"%(num,proper_divisors(num)))\n",
    "main()"
   ]
  },
  {
   "cell_type": "code",
   "execution_count": 14,
   "metadata": {
    "collapsed": false
   },
   "outputs": [
    {
     "name": "stdout",
     "output_type": "stream",
     "text": [
      "Perfect numbers between 1 and 1000 are:\n",
      "  6\n",
      "  28\n",
      "  496\n"
     ]
    }
   ],
   "source": [
    "#Exercise 110:Perfect numbers\n",
    "def perfect_numbers(integer):\n",
    "    divisors = []\n",
    "    for i in range(1,integer):\n",
    "        if integer % i == 0:\n",
    "            divisors.append(i)\n",
    "    \n",
    "    if sum(divisors) == integer:\n",
    "        return True\n",
    "    else:\n",
    "        return False\n",
    "    \n",
    "def main():\n",
    "    print(\"Perfect numbers between 1 and 1000 are:\")\n",
    "    for i in range(1,1001):\n",
    "        if perfect_numbers(i) == True:\n",
    "            print(\" \",i)\n",
    "            \n",
    "\n",
    "main()"
   ]
  },
  {
   "cell_type": "code",
   "execution_count": 16,
   "metadata": {
    "collapsed": false
   },
   "outputs": [],
   "source": [
    "str1 = \"Hi Iam shreyas puranik.Lemoxo!\""
   ]
  },
  {
   "cell_type": "code",
   "execution_count": 22,
   "metadata": {
    "collapsed": false
   },
   "outputs": [
    {
     "data": {
      "text/plain": [
       "['Hi', 'Iam', 'shreyas', 'puranik.Lemoxo!']"
      ]
     },
     "execution_count": 22,
     "metadata": {},
     "output_type": "execute_result"
    }
   ],
   "source": [
    "str1.split()"
   ]
  },
  {
   "cell_type": "code",
   "execution_count": 26,
   "metadata": {
    "collapsed": false
   },
   "outputs": [
    {
     "name": "stdout",
     "output_type": "stream",
     "text": [
      "Enter a string:Examples of contradiction include: don't, isn't, and wouldn't  \n",
      "Words in string are: ['Examples', 'of', 'contradiction', 'include', \"don't\", \"isn't\", 'and', \"wouldn't\"]\n"
     ]
    }
   ],
   "source": [
    "#Exercise 111: Only th words\n",
    "\n",
    "def only_words(str1):\n",
    "    word_list = \"\".join(c for c in str1 if c not in ('!','.',':',',')).split()\n",
    "    return word_list\n",
    "\n",
    "def main():\n",
    "    s = input(\"Enter a string:\")\n",
    "    print(\"Words in string are: %s\"%only_words(s))\n",
    "    \n",
    "    \n",
    "if __name__ == '__main__':\n",
    "    main()"
   ]
  },
  {
   "cell_type": "code",
   "execution_count": 38,
   "metadata": {
    "collapsed": false
   },
   "outputs": [
    {
     "name": "stdout",
     "output_type": "stream",
     "text": [
      "Enter the value(Blank to quit):2\n",
      "Enter the value(Blank to quit):4\n",
      "Enter the value(Blank to quit):4\n",
      "Enter the value(Blank to quit):6\n",
      "Enter the value(Blank to quit):\n",
      "4.0\n",
      "2.0\n",
      "4.0\n",
      "4.0\n",
      "6.0\n"
     ]
    }
   ],
   "source": [
    "#Exercise 112:Below and Above average\n",
    "s = input(\"Enter the value(Blank to quit):\")\n",
    "values = []\n",
    "count = 0\n",
    "below_avg = []\n",
    "above_avg = []\n",
    "equal_avg = []\n",
    "while s != \"\":\n",
    "    num = float(s)\n",
    "    values.append(num)\n",
    "    count += 1\n",
    "    s = input(\"Enter the value(Blank to quit):\")\n",
    "        \n",
    "avg = sum(values)/count\n",
    "print(avg)\n",
    "\n",
    "for i in values:    \n",
    "    if i < avg:\n",
    "        below_avg.append(i)\n",
    "    elif i > 0:\n",
    "        above_avg.append(i)\n",
    "    else:\n",
    "        equal_avg.append(i)\n",
    "        \n",
    "for i in below_avg:\n",
    "    print(i)\n",
    "    \n",
    "for i in above_avg:\n",
    "    print(i)\n",
    "    \n",
    "for i in equal_avg:\n",
    "    print(i)"
   ]
  },
  {
   "cell_type": "code",
   "execution_count": 13,
   "metadata": {
    "collapsed": false
   },
   "outputs": [
    {
     "name": "stdout",
     "output_type": "stream",
     "text": [
      "Enter an item(blank to quit)apples\n",
      "Enter an item(blank to quit)oranges\n",
      "Enter an item(blank to quit)lemons\n",
      "Enter an item(blank to quit)\n",
      "The items are apples,oranges and lemons\n"
     ]
    }
   ],
   "source": [
    "#Exercise 113:Formatting a list\n",
    "\n",
    "def formatList(items):\n",
    "    if len(items) == 0:\n",
    "        return \"<empty>\"\n",
    "    if len(items) == 1:\n",
    "        return str(items[0])\n",
    "    \n",
    "    result = \"\"\n",
    "    for i in range(0,len(items) - 2):\n",
    "        result = result + str(items[i]) + \",\"\n",
    "        result = result + str(items[len(items) - 2]) + \" and \"\n",
    "        result = result + str(items[len(items) - 1])\n",
    "    return result\n",
    "                              \n",
    "def main():\n",
    "    items = []\n",
    "    line = input(\"Enter an item(blank to quit)\")\n",
    "    while line != \"\":\n",
    "          items.append(line)\n",
    "          line = input(\"Enter an item(blank to quit)\")\n",
    "    print(\"The items are %s\"%formatList(items))\n",
    "    \n",
    "main()\n",
    "                              "
   ]
  },
  {
   "cell_type": "code",
   "execution_count": 14,
   "metadata": {
    "collapsed": false
   },
   "outputs": [
    {
     "name": "stdout",
     "output_type": "stream",
     "text": [
      "numbers are: 9 10 14 17 26 36 \n"
     ]
    }
   ],
   "source": [
    "#Exerxise 114:Random lottery numbers\n",
    "from random import randrange\n",
    "\n",
    "min_num = 1\n",
    "max_num = 49\n",
    "num_nums = 6\n",
    "\n",
    "ticket_nums = []\n",
    "\n",
    "for i in range(num_nums):\n",
    "    rand_num = randrange(min_num,max_num + 1)\n",
    "    while rand_num in ticket_nums:\n",
    "        rand_num = randrange(min_num,max_num + 1)\n",
    "        \n",
    "    ticket_nums.append(rand_num)\n",
    "    \n",
    "ticket_nums.sort()\n",
    "print(\"numbers are: \",end = \"\")\n",
    "for n in ticket_nums:\n",
    "    print(n, end=\" \")\n",
    "print()\n"
   ]
  },
  {
   "cell_type": "code",
   "execution_count": 12,
   "metadata": {
    "collapsed": false
   },
   "outputs": [
    {
     "name": "stdout",
     "output_type": "stream",
     "text": [
      "Enter a word:computer\n",
      "omputercay\n"
     ]
    }
   ],
   "source": [
    "#Exercise 115:Pig latin\n",
    "\n",
    "vowels = [\"a\",\"e\",\"i\",\"o\",\"u\"]\n",
    "\n",
    "line = input(\"Enter a word:\")\n",
    "if line[0] in vowels:\n",
    "    line = line + \"way\"\n",
    "    print(line)\n",
    "else:\n",
    "    line = line + line[0] + \"ay\"\n",
    "    line1 = line[1:]\n",
    "    print(line1)"
   ]
  },
  {
   "cell_type": "code",
   "execution_count": 7,
   "metadata": {
    "collapsed": false
   },
   "outputs": [
    {
     "name": "stdout",
     "output_type": "stream",
     "text": [
      "Enter a word:Shreyas\n",
      "hreyassay\n"
     ]
    }
   ],
   "source": [
    "#Exercise 116:Pig latin improved\n",
    "vowels = [\"a\",\"e\",\"i\",\"o\",\"u\",\"A\",\"E\",\"I\",\"O\",\"U\"]\n",
    "punctuation = [\"!\",\",\",\"?\"]\n",
    "\n",
    "line = input(\"Enter a word:\")\n",
    "if line[0] in vowels:\n",
    "    if line[0] in vowels:\n",
    "        line = line + \"way\"\n",
    "        print(line)\n",
    "        \n",
    "else:\n",
    "    if line[0].isupper() == True:\n",
    "        m = line[0].lower()\n",
    "        line = line + m + \"ay\"\n",
    "        line1 = line[1:]\n",
    "        print(line1)\n",
    "\n",
    "    "
   ]
  },
  {
   "cell_type": "code",
   "execution_count": 8,
   "metadata": {
    "collapsed": false
   },
   "outputs": [],
   "source": [
    "#Exercise 117:Line of Best Fit\n"
   ]
  },
  {
   "cell_type": "code",
   "execution_count": 15,
   "metadata": {
    "collapsed": false
   },
   "outputs": [
    {
     "name": "stdout",
     "output_type": "stream",
     "text": [
      "Original deck of cards is:\n",
      "['2s', '3s', '4s', '5s', '6s', '7s', '8s', '9s', 'Ts', 'Js', 'Qs', 'Ks', 'As', '2h', '3h', '4h', '5h', '6h', '7h', '8h', '9h', 'Th', 'Jh', 'Qh', 'Kh', 'Ah', '2d', '3d', '4d', '5d', '6d', '7d', '8d', '9d', 'Td', 'Jd', 'Qd', 'Kd', 'Ad', '2c', '3c', '4c', '5c', '6c', '7c', '8c', '9c', 'Tc', 'Jc', 'Qc', 'Kc', 'Ac']\n",
      "\n",
      "Shuffled deck of cards is:\n",
      "['7c', '7s', '4d', '8h', '8c', 'Kh', '5s', '9d', 'Qc', 'Qd', 'Jh', 'Kc', '9h', '5d', '8s', 'Kd', 'Td', '3d', 'Ad', '3h', '9c', '2c', '3s', '9s', 'Ts', '8d', 'Js', '2s', '6s', 'As', 'Qh', '2h', 'Tc', '4h', '6c', '3c', '2d', '4c', '6d', 'Ks', '6h', 'Jd', 'Qs', '5h', 'Ac', 'Th', '4s', '7h', '7d', 'Ah', '5c', 'Jc']\n"
     ]
    }
   ],
   "source": [
    "#Shuffling a deck of cards\n",
    "from random import randrange\n",
    "def createDeck():\n",
    "    cards = []\n",
    "    \n",
    "    for suit in [\"s\",\"h\",\"d\",\"c\"]:\n",
    "        for value in [\"2\",\"3\",\"4\",\"5\",\"6\",\"7\",\"8\",\"9\",\"T\",\"J\",\"Q\",\"K\",\"A\"]:\n",
    "            cards.append(value + suit)\n",
    "    return cards\n",
    "\n",
    "\n",
    "def shuffle(cards):\n",
    "    for i in range(0,len(cards)):\n",
    "        other_pos = randrange(0,len(cards))\n",
    "        temp = cards[i]\n",
    "        cards[i] = cards[other_pos]\n",
    "        cards[other_pos] = temp\n",
    "        \n",
    "        \n",
    "def main():\n",
    "    cards = createDeck()\n",
    "    print(\"Original deck of cards is:\")\n",
    "    print(cards)\n",
    "    print()\n",
    "    \n",
    "    shuffle(cards)\n",
    "    print(\"Shuffled deck of cards is:\")\n",
    "    print(cards)\n",
    "    \n",
    "    \n",
    "if __name__ == \"__main__\":\n",
    "    main()\n",
    "        \n",
    "        \n",
    "        \n",
    "            "
   ]
  },
  {
   "cell_type": "code",
   "execution_count": 13,
   "metadata": {
    "collapsed": false
   },
   "outputs": [
    {
     "name": "stdout",
     "output_type": "stream",
     "text": [
      "Enter a number:33\n",
      "Enter a number:1\n",
      "Enter a number:4\n",
      "Enter a number:5\n",
      "Enter a number:6\n",
      "Enter a number:\n",
      "List is not sorted\n"
     ]
    }
   ],
   "source": [
    "#Exerxise 120:Is a list already sorted\n",
    "def is_sorted(list1):\n",
    "    if list1 == sorted(list1) or list1 == sorted(list1,reverse = True):\n",
    "        return True\n",
    "    else:\n",
    "        return False\n",
    "    \n",
    "    \n",
    "def main():\n",
    "    l = []\n",
    "    num = input(\"Enter a number:\")\n",
    "    while num != \"\":\n",
    "        num = float(num)\n",
    "        l.append(num)\n",
    "        num = input(\"Enter a number:\")\n",
    "        \n",
    "    if is_sorted(l) == True:\n",
    "        print(\"List is already sorted\")\n",
    "    else:\n",
    "        print(\"List is not sorted\")\n",
    "        \n",
    "if __name__ == \"__main__\":\n",
    "    main()\n",
    "        "
   ]
  },
  {
   "cell_type": "code",
   "execution_count": 14,
   "metadata": {
    "collapsed": false
   },
   "outputs": [
    {
     "name": "stdout",
     "output_type": "stream",
     "text": [
      "Counting the elements in [1..10] that are 5 and 7..\n",
      "Result:2  Expected: 2\n",
      "Counting the elements in [1..10] that are -5 and 77..\n",
      "Result:10  Expected: 2\n",
      "Counting the elements in [1..10] that are 12 and 17..\n",
      "Result:0  Expected: 2\n"
     ]
    }
   ],
   "source": [
    "#Exercise 121:Count the Elements\n",
    "\n",
    "def countRange(data,mn,mx):\n",
    "    count = 0\n",
    "    for e in data:\n",
    "        if mn <= e and e < mx:\n",
    "            count = count + 1\n",
    "    return count\n",
    "\n",
    "def main():\n",
    "    data = [1,2,3,4,5,6,7,8,9,10]\n",
    "    \n",
    "    print(\"Counting the elements in [1..10] that are between 5 and 7..\")\n",
    "    print(\"Result:%d  Expected: 2\"%countRange(data,5,7))\n",
    "    \n",
    "    print(\"Counting the elements in [1..10] that are between -5 and 77..\")\n",
    "    print(\"Result:%d  Expected: 2\"%countRange(data,-5,77))\n",
    "    \n",
    "    print(\"Counting the elements in [1..10] that are between 12 and 17..\")\n",
    "    print(\"Result:%d  Expected: 2\"%countRange(data,12,17))\n",
    "    \n",
    "main()\n",
    "    \n",
    "    \n",
    "    \n",
    "    "
   ]
  },
  {
   "cell_type": "code",
   "execution_count": 22,
   "metadata": {
    "collapsed": false
   },
   "outputs": [
    {
     "name": "stdout",
     "output_type": "stream",
     "text": [
      "Enter the mathematical expression:3 + 4*5\n",
      "tokens are  ['3', '+', '4', '*', '5']\n"
     ]
    }
   ],
   "source": [
    "#Exercise 122:Tokenizing a string\n",
    "\n",
    "def tokenList(s):\n",
    "    s = s.replace(\" \",\"\")\n",
    "    tokens = []\n",
    "    i = 0\n",
    "    while i < len(s):\n",
    "        if s[i] == \"*\" or s[i] == \"/\" or s[i] == \"^\" or s[i] == \"(\" or s[i] == \")\":\n",
    "            tokens.append(s[i])\n",
    "            i = i + 1\n",
    "            \n",
    "        elif s[i] == \"+\" or s[i] == \"-\":\n",
    "            if i > 0 and (s[i-1] >= \"0\" and s[i-1] <= '9' or s[i-1] == \")\"):\n",
    "                tokens.append(s[i])\n",
    "                i = i + 1\n",
    "            else:\n",
    "                num = s[i]\n",
    "                i = i + 1\n",
    "                \n",
    "                while i < len(s) and s[i] >= \"0\" and s[i] <= \"9\":\n",
    "                    num = num + s[i]\n",
    "                    i = i + 1\n",
    "                tokens.append(num)\n",
    "                \n",
    "        elif s[i] >= \"0\" or s[i] <= \"9\":\n",
    "            num = \"\"\n",
    "            while i < len(s) and s[i] >= \"0\" and s[i] <= \"9\":\n",
    "                    num = num + s[i]\n",
    "                    i = i + 1\n",
    "            tokens.append(num)\n",
    "            \n",
    "        else:\n",
    "            return tokens\n",
    "        \n",
    "    return tokens\n",
    "        \n",
    "def main():\n",
    "    exp = input(\"Enter the mathematical expression:\")\n",
    "    tokens = tokenList(exp)\n",
    "    print(\"tokens are \",tokens)\n",
    "    \n",
    "if __name__ == \"__main__\":\n",
    "    main()"
   ]
  },
  {
   "cell_type": "code",
   "execution_count": 39,
   "metadata": {
    "collapsed": false
   },
   "outputs": [
    {
     "name": "stdout",
     "output_type": "stream",
     "text": [
      "larger list is:5\n",
      "Enter a number:4\n",
      "Enter a number:3\n",
      "Enter a number:\n",
      "smaller list is:5\n",
      "Enter a number:4\n",
      "Enter a number:\n",
      "[5.0, 4.0] is a sublist of [5.0, 4.0, 3.0]\n"
     ]
    }
   ],
   "source": [
    "#Exercise 125:Does a list contain a sublist\n",
    "\n",
    "def is_sublist(larger,smaller):\n",
    "    for i in range(0,len(larger)):\n",
    "        for j in range(0,len(smaller)):\n",
    "            if smaller[j] == larger[j] and smaller[j + 1] == larger[j + 1]:\n",
    "                j = j + 1\n",
    "                return True\n",
    "        i = i + 1\n",
    "    return False  \n",
    "        \n",
    "def main():\n",
    "    larger = []\n",
    "    smaller = []\n",
    "    l = input(\"larger list is:\")\n",
    "    while l != \"\":\n",
    "        l = float(l)\n",
    "        larger.append(l)\n",
    "        l = input(\"Enter a number:\")\n",
    "        \n",
    "    s = input(\"smaller list is:\")\n",
    "    while s != \"\":\n",
    "        s = float(s)\n",
    "        smaller.append(s)\n",
    "        s = input(\"Enter a number:\")\n",
    "    \n",
    "    if is_sublist(larger,smaller) == True:\n",
    "        print(\"%s is a sublist of %s\"%(smaller,larger))\n",
    "    else:\n",
    "        print(\"%s is not a sublist of %s\"%(smaller,larger))\n",
    "main()\n"
   ]
  },
  {
   "cell_type": "code",
   "execution_count": null,
   "metadata": {
    "collapsed": true
   },
   "outputs": [],
   "source": [
    "##### Exercise 126:Generate all sublists\n",
    "\n",
    "def allSublists(data):\n",
    "    sublists = [[]]\n",
    "    \n",
    "    for length in range(1,len(data) + 1):\n",
    "        for i in range(0,len(data) - length + 1):\n",
    "            sublists.append(data[i:i + length])\n",
    "            \n",
    "    return sublists\n",
    "\n",
    "def main():\n",
    "    print(\"The sublists of [] are:\")\n",
    "    print(allSublists([]))\n",
    "    \n",
    "    print(\"The sublists of [1] are:\")\n",
    "    print(allSublists([1]))\n",
    "    \n",
    "    print(\"The sublists of [1,2] are:\")\n",
    "    print(allSublists([1,2]))\n",
    "    \n",
    "    print(\"The sublists of [1,2,3] are:\")\n",
    "    print(allSublists([1,2,3]))\n",
    "    \n",
    "main()"
   ]
  },
  {
   "cell_type": "code",
   "execution_count": 26,
   "metadata": {
    "collapsed": false
   },
   "outputs": [
    {
     "name": "stdout",
     "output_type": "stream",
     "text": [
      "Generate prime numbers to limit:19\n",
      "The primes up to 19 are:\n",
      "2\n",
      "3\n",
      "5\n",
      "7\n",
      "11\n",
      "13\n",
      "17\n",
      "19\n"
     ]
    }
   ],
   "source": [
    "#Exercise 127:The sieve of Eratosthenes\n",
    "\n",
    "limit = int(input(\"Generate prime numbers to limit:\"))\n",
    "nums = []\n",
    "for i in range(0,limit + 1):\n",
    "    nums.append(i)\n",
    "    \n",
    "nums[1] = 0\n",
    "\n",
    "p = 2\n",
    "while p < limit:\n",
    "    for i in range(p*2, limit + 1, p):\n",
    "        nums[i] = 0\n",
    "        \n",
    "    p = p + 1\n",
    "    while p < limit and nums[p] == 0:\n",
    "        p = p + 1\n",
    "        \n",
    "print(\"The primes up to\",limit,\"are:\")\n",
    "for i in nums:\n",
    "    if nums[i] != 0:\n",
    "        print(i)"
   ]
  },
  {
   "cell_type": "code",
   "execution_count": null,
   "metadata": {
    "collapsed": true
   },
   "outputs": [],
   "source": []
  }
 ],
 "metadata": {
  "anaconda-cloud": {},
  "kernelspec": {
   "display_name": "Python [default]",
   "language": "python",
   "name": "python3"
  },
  "language_info": {
   "codemirror_mode": {
    "name": "ipython",
    "version": 3
   },
   "file_extension": ".py",
   "mimetype": "text/x-python",
   "name": "python",
   "nbconvert_exporter": "python",
   "pygments_lexer": "ipython3",
   "version": "3.5.2"
  }
 },
 "nbformat": 4,
 "nbformat_minor": 1
}
