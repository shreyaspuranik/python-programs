{
 "cells": [
  {
   "cell_type": "code",
   "execution_count": 2,
   "metadata": {
    "collapsed": false
   },
   "outputs": [
    {
     "name": "stdout",
     "output_type": "stream",
     "text": [
      "The num for 'shreyas' are:[1, 3]\n"
     ]
    }
   ],
   "source": [
    "#Exercise 128:Reverse Lookup\n",
    "def reverseLookup(data,value):\n",
    "    keys = []\n",
    "    \n",
    "    for key in data:\n",
    "        if data[key] == value:\n",
    "            keys.append(key)\n",
    "            \n",
    "    return keys\n",
    "\n",
    "def main():\n",
    "    \n",
    "    num_person = {1:\"shreyas\",2:\"harshal\",3:\"shreyas\",4:\"Omkar\"}\n",
    "    print(\"The num for 'shreyas' are:%s\"%reverseLookup(num_person,\"shreyas\"))\n",
    "    \n",
    "main()"
   ]
  },
  {
   "cell_type": "code",
   "execution_count": 3,
   "metadata": {
    "collapsed": false
   },
   "outputs": [
    {
     "name": "stdout",
     "output_type": "stream",
     "text": [
      "1\n",
      "2\n",
      "3\n",
      "4\n"
     ]
    }
   ],
   "source": [
    "num_person = {1:\"shreyas\",2:\"harshal\",3:\"shreyas\",4:\"Omkar\"}\n",
    "for i in num_person:\n",
    "    print(i)"
   ]
  },
  {
   "cell_type": "code",
   "execution_count": 7,
   "metadata": {
    "collapsed": false
   },
   "outputs": [
    {
     "name": "stdout",
     "output_type": "stream",
     "text": [
      "Total  Simulated  Expected\n",
      "    2         2.60      0.03\n",
      "    3         4.40      0.06\n",
      "    4         8.20      0.08\n",
      "    5        10.80      0.11\n",
      "    6        14.80      0.14\n",
      "    7        18.00      0.17\n",
      "    8        13.80      0.14\n",
      "    9        11.50      0.11\n",
      "   10         9.00      0.08\n",
      "   11         4.80      0.06\n",
      "   12         2.10      0.03\n"
     ]
    }
   ],
   "source": [
    "#Exercise 129:Two dice simuation\n",
    "from random import randrange\n",
    "\n",
    "def twoDice():\n",
    "    d1 = randrange(1,7)\n",
    "    d2 = randrange(1,7)\n",
    "    return d1 + d2\n",
    "\n",
    "def main():\n",
    "    expected = {2: 1/36, 3: 2/36, 4: 3/36, 5: 4/36, 6: 5/36, 7: 6/36, 8: 5/36, 9: 4/36, 10: 3/36,11: 2/36, 12: 1/36}\n",
    "    \n",
    "    counts = {2:0, 3:0, 4:0, 5:0, 6:0, 7:0, 8:0, 9:0, 10:0, 11:0, 12:0}\n",
    "    \n",
    "    for i in range(1000):\n",
    "        t = twoDice()\n",
    "        counts[t] = counts[t] + 1\n",
    "        \n",
    "    print(\"Total  Simulated  Expected\")\n",
    "    for i in sorted(counts.keys()):\n",
    "        print(\"%5d  %11.2f  %8.2f\"%(i, counts[i]/1000 * 100, expected[i]))\n",
    "        \n",
    "main()"
   ]
  },
  {
   "cell_type": "code",
   "execution_count": 25,
   "metadata": {
    "collapsed": false
   },
   "outputs": [
    {
     "name": "stdout",
     "output_type": "stream",
     "text": [
      "Enter a string:hello world\n",
      "key presses for your message are:\n",
      "4433555555666096667775553"
     ]
    }
   ],
   "source": [
    "#Exercise 130:Text Messaging\n",
    "dic1 = {'.':1, ',':11, '?':111, '!':1111, ':':'11111', 'A':2, 'B':22, 'C':222, 'D':3, 'E':33, 'F':333, \\\n",
    "        'G':4, 'H':44, 'I':444, 'J':5, 'K':55, 'L':555, 'M':6, 'N':66, 'O':666, 'P':7, 'Q':77, 'R':777,'S':7777, \\\n",
    "        'T':8, 'U':88, 'V':888, 'W':9, 'X':99, 'Y':999, 'Z':9999, ' ':0}\n",
    "\n",
    "str1 = input(\"Enter a string:\")\n",
    "\n",
    "print(\"key presses for your message are:\")\n",
    "for i in range(0,len(str1)):\n",
    "    s = str1[i].upper()\n",
    "    print(dic1[s],end = \"\")\n",
    "    \n",
    "    "
   ]
  },
  {
   "cell_type": "code",
   "execution_count": 27,
   "metadata": {
    "collapsed": false
   },
   "outputs": [
    {
     "name": "stdout",
     "output_type": "stream",
     "text": [
      "Enter a string:shreyas puranik\n",
      "That string contained 12 unique characters.\n"
     ]
    }
   ],
   "source": [
    "#Unique characters\n",
    "s = input(\"Enter a string:\")\n",
    "characters = {}\n",
    "\n",
    "for ch in s:\n",
    "    characters[ch] = True\n",
    "\n",
    "print(\"That string contained\",len(characters) ,\"unique characters.\")\n"
   ]
  },
  {
   "cell_type": "code",
   "execution_count": 8,
   "metadata": {
    "collapsed": false
   },
   "outputs": [
    {
     "name": "stdout",
     "output_type": "stream",
     "text": [
      "Enter string1:uper\n",
      "Enter string2:pure\n",
      "Those strings are anagrams\n"
     ]
    }
   ],
   "source": [
    "#Anagrams\n",
    "\n",
    "def characterCounts(s):\n",
    "    counts = {}\n",
    "\n",
    "    for ch in s1:\n",
    "        if ch in counts:\n",
    "            counts[ch] = counts[ch] + 1\n",
    "        else:\n",
    "            counts[ch] = 1\n",
    "    return counts\n",
    "\n",
    "def main():\n",
    "    \n",
    "    str1 = input(\"Enter string1:\")\n",
    "    str2 = input(\"Enter string2:\")\n",
    "    \n",
    "    \n",
    "    counts1 = characterCounts(str1)\n",
    "    counts2 = characterCounts(str2)\n",
    "    \n",
    "    if counts1 == counts2:\n",
    "        print(\"Those strings are anagrams\")\n",
    "    else:\n",
    "        print(\"Those strings are not anagrams\")\n",
    "        \n",
    "\n",
    "    \n",
    "main()"
   ]
  },
  {
   "cell_type": "code",
   "execution_count": 5,
   "metadata": {
    "collapsed": false
   },
   "outputs": [
    {
     "data": {
      "text/plain": [
       "'SHREYASPURANIK'"
      ]
     },
     "execution_count": 5,
     "metadata": {},
     "output_type": "execute_result"
    }
   ],
   "source": [
    "s = \"shreyas puranik\"\n",
    "s1 = \"\".join(s.split())\n",
    "s1.upper()"
   ]
  },
  {
   "cell_type": "code",
   "execution_count": 11,
   "metadata": {
    "collapsed": false
   },
   "outputs": [
    {
     "name": "stdout",
     "output_type": "stream",
     "text": [
      "Enter string1:William Shakespeare\n",
      "Enter string2:I am a weakish speller\n",
      "Those strings are anagrams\n"
     ]
    }
   ],
   "source": [
    "# Anagrams Again\n",
    "\n",
    "def characterCounts(s):\n",
    "    counts = {}\n",
    "    s1 = \"\".join(s.split())\n",
    "    s1 = s1.lower()\n",
    "    \n",
    "    for ch in s1:\n",
    "        if ch in counts:\n",
    "            counts[ch] = counts[ch] + 1\n",
    "        else:\n",
    "            counts[ch] = 1\n",
    "    return counts\n",
    "\n",
    "def main():\n",
    "    \n",
    "    str1 = input(\"Enter string1:\")\n",
    "    str2 = input(\"Enter string2:\")\n",
    "    \n",
    "    \n",
    "    counts1 = characterCounts(str1)\n",
    "    counts2 = characterCounts(str2)\n",
    "    \n",
    "    if counts1 == counts2:\n",
    "        print(\"Those strings are anagrams\")\n",
    "    else:\n",
    "        print(\"Those strings are not anagrams\")\n",
    "        \n",
    "\n",
    "    \n",
    "main()"
   ]
  },
  {
   "cell_type": "code",
   "execution_count": 19,
   "metadata": {
    "collapsed": false
   },
   "outputs": [
    {
     "name": "stdout",
     "output_type": "stream",
     "text": [
      "Enter a word:shreyas\n",
      "13\n"
     ]
    }
   ],
   "source": [
    "#Scrabble score\n",
    "dic1 = {'A':1, 'B':3, 'C':3, 'D':2, 'E':1, 'F':4,'G':2, 'H':4, 'I':1, \\\n",
    "        'J':8, 'K':5, 'L':1, 'M':3, 'N':1, 'O':1, 'P':3, 'Q':10, 'R':1,'S':1, \\\n",
    "        'T':1, 'U':1, 'V':4, 'W':4, 'X':8, 'Y':4, 'Z':10}\n",
    "\n",
    "word = input(\"Enter a word:\")\n",
    "word = word.upper()\n",
    "score = 0\n",
    "for i in word:\n",
    "    score = score + dic1[i]\n",
    "    \n",
    "print(score)"
   ]
  },
  {
   "cell_type": "code",
   "execution_count": 14,
   "metadata": {
    "collapsed": false
   },
   "outputs": [
    {
     "name": "stdout",
     "output_type": "stream",
     "text": [
      "B  I  N  G  O\n",
      "13 84 160 234 307 \n",
      "20 96 174 241 317 \n",
      "39 106 188 259 339 \n",
      "53 124 210 284 349 \n",
      "62 141 212 290 369 \n"
     ]
    }
   ],
   "source": [
    "#Create a bingo card\n",
    "\n",
    "from random import randrange\n",
    "\n",
    "nums_per_letter = 15\n",
    "\n",
    "def CreateCard():\n",
    "    card = {}\n",
    "    \n",
    "    lower = 1\n",
    "    upper = nums_per_letter + 1\n",
    "    \n",
    "    for letter in [\"B\",\"I\",\"N\",\"G\",\"O\"]:      #Creating list for each letter\n",
    "        card[letter] = []\n",
    "        \n",
    "        while len(card[letter]) != 5:\n",
    "            next_num = randrange(lower,upper)\n",
    "            \n",
    "            if next_num not in card[letter]:\n",
    "                card[letter].append(next_num)\n",
    "                \n",
    "            lower = lower + nums_per_letter\n",
    "            upper = upper + nums_per_letter\n",
    "            \n",
    "    return card\n",
    " \n",
    "def displayCard(card):\n",
    "    print(\"B  I  N  G  O\")\n",
    "    \n",
    "    for i in range(5):\n",
    "        for letter in [\"B\",\"I\",\"N\",\"G\",\"O\"]:\n",
    "            print(\"%2d \"%card[letter][i],end=\"\")\n",
    "        print()\n",
    "        \n",
    "\n",
    "def main():\n",
    "    card = CreateCard()\n",
    "    displayCard(card)\n",
    "    \n",
    "if __name__ == \"__main__\":\n",
    "    main()\n",
    "    \n",
    "    \n",
    "    \n",
    "    \n",
    "    #return card\n",
    "        \n",
    "\n",
    "    \n",
    "\n",
    "    "
   ]
  },
  {
   "cell_type": "code",
   "execution_count": 15,
   "metadata": {
    "collapsed": false
   },
   "outputs": [
    {
     "name": "stdout",
     "output_type": "stream",
     "text": [
      "s\n",
      "h\n",
      "r\n",
      "e\n",
      "y\n",
      "a\n",
      "s\n"
     ]
    }
   ],
   "source": []
  },
  {
   "cell_type": "code",
   "execution_count": null,
   "metadata": {
    "collapsed": true
   },
   "outputs": [],
   "source": []
  }
 ],
 "metadata": {
  "anaconda-cloud": {},
  "kernelspec": {
   "display_name": "Python [default]",
   "language": "python",
   "name": "python3"
  },
  "language_info": {
   "codemirror_mode": {
    "name": "ipython",
    "version": 3
   },
   "file_extension": ".py",
   "mimetype": "text/x-python",
   "name": "python",
   "nbconvert_exporter": "python",
   "pygments_lexer": "ipython3",
   "version": "3.5.2"
  }
 },
 "nbformat": 4,
 "nbformat_minor": 1
}
