{
 "cells": [
  {
   "cell_type": "code",
   "execution_count": 8,
   "metadata": {
    "collapsed": false
   },
   "outputs": [
    {
     "name": "stdout",
     "output_type": "stream",
     "text": [
      "Enter the number:3\n",
      "Enter the number:6\n",
      "Enter the number:3\n",
      "Enter the number:0\n",
      "Average is 4.000000\n"
     ]
    }
   ],
   "source": [
    "#Exercise 61:Averging\n",
    "n = float(input(\"Enter the number:\"))\n",
    "sum = 0\n",
    "count = 0\n",
    "\n",
    "while n!= 0:\n",
    "    count += 1\n",
    "    sum = sum + n\n",
    "    n = float(input(\"Enter the number:\"))\n",
    "if count == 0:\n",
    "    avg = 0\n",
    "else:\n",
    "    avg = sum / count\n",
    "print(\"Average is %f\"%avg)"
   ]
  },
  {
   "cell_type": "code",
   "execution_count": null,
   "metadata": {
    "collapsed": true
   },
   "outputs": [],
   "source": [
    "#Exercise 62:Discount table\n"
   ]
  },
  {
   "cell_type": "code",
   "execution_count": 13,
   "metadata": {
    "collapsed": false
   },
   "outputs": [
    {
     "name": "stdout",
     "output_type": "stream",
     "text": [
      "Degrees Celsius\t\tFahrenheit\n",
      "0 \t\t\t 32.0\n",
      "10 \t\t\t 50.0\n",
      "20 \t\t\t 68.0\n",
      "30 \t\t\t 86.0\n",
      "40 \t\t\t 104.0\n",
      "50 \t\t\t 122.0\n",
      "60 \t\t\t 140.0\n",
      "70 \t\t\t 158.0\n",
      "80 \t\t\t 176.0\n",
      "90 \t\t\t 194.0\n",
      "100 \t\t\t 212.0\n"
     ]
    }
   ],
   "source": [
    "#Exercise 63:Temperature conversion table:\n",
    "print(\"Degrees Celsius\\t\\tFahrenheit\")\n",
    "for i in range(101):\n",
    "    if i%10 == 0:\n",
    "        print(i,\"\\t\\t\\t\", i*1.8 + 32 )"
   ]
  },
  {
   "cell_type": "code",
   "execution_count": 17,
   "metadata": {
    "collapsed": false
   },
   "outputs": [
    {
     "name": "stdout",
     "output_type": "stream",
     "text": [
      "Enter the price of th item:50.54\n",
      "Enter the price of the item:73\n",
      "Enter the price of the item:\n",
      "The exact amount of payable is 123.54\n",
      "The cash amount payable is 123.55\n"
     ]
    }
   ],
   "source": [
    "#Exercise 64:No more pennies\n",
    "pennies_per_nickel = 5\n",
    "nickel = 0.05\n",
    "total = 0.0\n",
    "\n",
    "line = input(\"Enter the price of th item:\")\n",
    "\n",
    "while line != \"\":\n",
    "    total = total + float(line)\n",
    "    line = input(\"Enter the price of the item:\") \n",
    "\n",
    "print(\"The exact amount of payable is %.2f\"%total)\n",
    "rounding_indicator = total * 100 % pennies_per_nickel\n",
    "\n",
    "if rounding_indicator < pennies_per_nickel/2:\n",
    "    cash_total = total - rounding_indicator / 100\n",
    "else:\n",
    "    cash_total = total + nickel - rounding_indicator/100\n",
    "\n",
    "print(\"The cash amount payable is %.2f\"%cash_total)\n",
    "\n"
   ]
  },
  {
   "cell_type": "code",
   "execution_count": 25,
   "metadata": {
    "collapsed": false
   },
   "outputs": [
    {
     "name": "stdout",
     "output_type": "stream",
     "text": [
      "Enter the x part of co-ordinate:3\n",
      "Enter the y part of co-ordinate:4\n",
      "Enter the x part of the coordinate:5\n",
      "Enter the y part of co-ordinate:6\n",
      "Enter the x part of the coordinate:8\n",
      "Enter the y part of co-ordinate:8\n",
      "Enter the x part of the coordinate:\n",
      "perimeter of polygon is:12.84\n"
     ]
    }
   ],
   "source": [
    "#Exercise 65: compute perimeter of a polygon\n",
    "from math import sqrt\n",
    "perimeter = 0\n",
    "first_x = float(input(\"Enter the x part of co-ordinate:\"))\n",
    "first_y = float(input(\"Enter the y part of co-ordinate:\"))\n",
    "\n",
    "prev_x = first_x\n",
    "prev_y = first_y\n",
    "\n",
    "line = input(\"Enter the x part of the coordinate:\")\n",
    "while line != \"\":\n",
    "    x = float(line)\n",
    "    y = float(input(\"Enter the y part of co-ordinate:\"))\n",
    "\n",
    "    distance = sqrt((prev_x - x)**2 + (prev_y - y)**2)\n",
    "    perimeter = perimeter + distance\n",
    "    \n",
    "    prev_x = x\n",
    "    prev_y = y\n",
    "    \n",
    "    line = input(\"Enter the x part of the coordinate:\")\n",
    "\n",
    "distance = sqrt((first_x - x)**2 + (first_y - y)**2)\n",
    "perimeter = perimeter + distance\n",
    "print(\"perimeter of polygon is:%.2f\"%perimeter)"
   ]
  },
  {
   "cell_type": "code",
   "execution_count": 32,
   "metadata": {
    "collapsed": false
   },
   "outputs": [
    {
     "name": "stdout",
     "output_type": "stream",
     "text": [
      "Enter the grade of student:B-\n",
      "Enter the grade of student:B-\n",
      "Enter the grade of student:B-\n",
      "Enter the grade of student:\n",
      "Grade point average is:2.70\n"
     ]
    }
   ],
   "source": [
    "#Exercise 66:Compute grade point average\n",
    "gp = 0\n",
    "count = 0   \n",
    "sum1 = 0\n",
    "grade = input(\"Enter the grade of student:\")\n",
    "while grade != \"\":\n",
    "    if grade == \"A+\" or grade == \"A\":\n",
    "        gp = 4.0\n",
    "    elif grade == \"A-\":\n",
    "        gp = 3.7\n",
    "    elif grade == \"B+\":\n",
    "        gp = 3.3\n",
    "    elif grade == \"B-\":\n",
    "        gp = 2.7\n",
    "    elif grade == \"C+\":\n",
    "        gp = 2.3\n",
    "    elif grade == \"C\":\n",
    "        gp = 2.0\n",
    "    elif grade == \"C-\":\n",
    "        gp = 1.7\n",
    "    elif grade == \"D+\":\n",
    "        gp = 1.3\n",
    "    elif grade == \"D\":\n",
    "        gp = 1.0\n",
    "    elif grade == \"F\":\n",
    "        gp = 0\n",
    "    sum1 = sum1 + gp\n",
    "    count += 1\n",
    "    grade = input(\"Enter the grade of student:\")\n",
    "\n",
    "if count == 0:\n",
    "    gpa = 0\n",
    "else:\n",
    "    gpa = sum1/count\n",
    "    \n",
    "print(\"Grade point average is:%.2f\"%gpa)"
   ]
  },
  {
   "cell_type": "code",
   "execution_count": 34,
   "metadata": {
    "collapsed": false
   },
   "outputs": [
    {
     "name": "stdout",
     "output_type": "stream",
     "text": [
      "Enter the age of person:45\n",
      "Enter the age of person(blank to quit):68\n",
      "Enter the age of person(blank to quit):\n",
      "Admission cost for group is:41.00\n"
     ]
    }
   ],
   "source": [
    "#Exercise 67:Admission price\n",
    "age = input(\"Enter the age of person:\")\n",
    "total_cost = 0\n",
    "while age != \"\":\n",
    "    if float(age) <= 2:\n",
    "        ad_cost = 0\n",
    "    elif float(age) >= 3 and float(age) <= 12:\n",
    "        ad_cost = 14.00\n",
    "    elif float(age) >= 65:\n",
    "        ad_cost = 18\n",
    "    else:\n",
    "        ad_cost = 23\n",
    "    total_cost = total_cost + ad_cost\n",
    "    age = input(\"Enter the age of person(blank to quit):\")\n",
    "\n",
    "print(\"Admission cost for group is:%.2f\"%total_cost)\n"
   ]
  },
  {
   "cell_type": "code",
   "execution_count": 36,
   "metadata": {
    "collapsed": false
   },
   "outputs": [
    {
     "name": "stdout",
     "output_type": "stream",
     "text": [
      "Enter 8 bits:1111\n",
      "That was not 8 bits..\n",
      "Enter 8 bits(Press enter to quit):11110001\n",
      "Parity bit should be 1\n",
      "Enter 8 bits(Press enter to quit):\n"
     ]
    }
   ],
   "source": [
    "#Exercise 68:Parity bits\n",
    "\n",
    "line = input(\"Enter 8 bits:\")\n",
    "while line != \"\":\n",
    "    if len(line) != 8:\n",
    "        print(\"That was not 8 bits..\")\n",
    "    else:\n",
    "        ones = line.count(\"1\")\n",
    "        if ones % 2 == 0:\n",
    "            print(\"Parity bit should be 0\")\n",
    "        else:\n",
    "            print(\"Parity bit should be 1\")\n",
    "            \n",
    "    line = input(\"Enter 8 bits(Press enter to quit):\")"
   ]
  },
  {
   "cell_type": "code",
   "execution_count": 10,
   "metadata": {
    "collapsed": false
   },
   "outputs": [
    {
     "name": "stdout",
     "output_type": "stream",
     "text": [
      "approximation 1:3.00\n",
      "approximation 2:3.166667\n",
      "approximation 3:3.133333\n",
      "approximation 4:3.145238\n",
      "approximation 5:3.139683\n",
      "approximation 6:3.142713\n",
      "approximation 7:3.140881\n",
      "approximation 8:3.142072\n",
      "approximation 9:3.141255\n",
      "approximation 10:3.141840\n",
      "approximation 11:3.141407\n",
      "approximation 12:3.141736\n",
      "approximation 13:3.141480\n",
      "approximation 14:3.141683\n",
      "approximation 15:3.141519\n"
     ]
    }
   ],
   "source": [
    "#Exercise 69:Approximate pi\n",
    "i = 0\n",
    "pi_approx = 3\n",
    "x = 2\n",
    "print(\"approximation 1:%.2f\"%pi_approx)\n",
    "while(i < 14):\n",
    "    if i % 2 == 0:\n",
    "        pi_approx = pi_approx + (4/(x * (x+1) * (x+2)))\n",
    "    else:\n",
    "        pi_approx = pi_approx - (4/(x * (x+1) * (x+2)))\n",
    "    x = x + 2\n",
    "    i = i + 1\n",
    "    print(\"approximation %d:%f\"%(i + 1,pi_approx))"
   ]
  },
  {
   "cell_type": "code",
   "execution_count": 14,
   "metadata": {
    "collapsed": false
   },
   "outputs": [
    {
     "name": "stdout",
     "output_type": "stream",
     "text": [
      "Enter the meassagehi iam shreyas\n",
      "Enter the shift value3\n",
      "The shifted message is kl ldp vkuhbdv\n"
     ]
    }
   ],
   "source": [
    "#Exercise 70:Caesar cipher\n",
    "message = input(\"Enter the meassage\")\n",
    "shift = int(input(\"Enter the shift value\"))\n",
    "new_message = \"\"\n",
    "for ch in message:\n",
    "    if ch >= \"a\" and ch <= \"z\":\n",
    "        pos = ord(ch) - ord(\"a\")\n",
    "        pos = (pos + shift) % 26\n",
    "        new_char = chr(pos + ord(\"a\"))\n",
    "        new_message = new_message + new_char\n",
    "    elif ch >= \"A\" and ch <= \"Z\":\n",
    "        pos = ord(ch) - ord(A)\n",
    "        pos = (pos + shift) % 26\n",
    "        new_char = chr(pos + ord(\"A\"))\n",
    "        new_message = new_message + new_char\n",
    "    else:\n",
    "        new_message = new_message + ch\n",
    "\n",
    "print(\"The shifted message is\",new_message)"
   ]
  },
  {
   "cell_type": "code",
   "execution_count": 6,
   "metadata": {
    "collapsed": false
   },
   "outputs": [
    {
     "name": "stdout",
     "output_type": "stream",
     "text": [
      "Enter the number:9\n",
      "Square root is 3.000000\n"
     ]
    }
   ],
   "source": [
    "#Exercise 71:Square root:Newton's method\n",
    "num = int(input(\"Enter the number:\"))\n",
    "guess = num/2\n",
    "m = (guess * guess) - num\n",
    "while  m > 10**-5:\n",
    "    guess = (guess + num/guess)/2\n",
    "    m = (guess * guess) - num\n",
    "print(\"Square root is %f\"%guess)\n"
   ]
  },
  {
   "cell_type": "code",
   "execution_count": 12,
   "metadata": {
    "collapsed": false
   },
   "outputs": [
    {
     "name": "stdout",
     "output_type": "stream",
     "text": [
      "Enter the string: hannah\n",
      "hannah is a palindrome\n"
     ]
    }
   ],
   "source": [
    "#Exercise 72:Is a string pallindromw\n",
    "line = input(\"Enter the string: \")\n",
    "is_palindrome = True\n",
    "\n",
    "for i in range(0,len(line)//2):\n",
    "    if line[i] != line[len(line) - i - 1]:\n",
    "        is_palindrome = False\n",
    "        \n",
    "if is_palindrome:\n",
    "    print(\"%s is a palindrome\"%line)\n",
    "else:\n",
    "    print(\"Not a palindrome\")\n",
    "        "
   ]
  },
  {
   "cell_type": "code",
   "execution_count": 19,
   "metadata": {
    "collapsed": false
   },
   "outputs": [
    {
     "name": "stdout",
     "output_type": "stream",
     "text": [
      "Enter the string: some men interpret nine memos\n",
      "some men interpret nine memos is a palindrome\n"
     ]
    }
   ],
   "source": [
    "#Exercise 73:Multiple words palindrome\n",
    "sentence = input(\"Enter the string: \")\n",
    "sentence1 = ''.join(sentence.split())\n",
    "is_palindrome = True\n",
    "\n",
    "for i in range(0,len(sentence1)//2):\n",
    "    if sentence1[i] != sentence1[len(sentence1) - i - 1]:\n",
    "        is_palindrome = False\n",
    "        \n",
    "if is_palindrome:\n",
    "    print(\"%s is a palindrome\"%sentence)\n",
    "else:\n",
    "    print(\"Not a palindrome\")\n",
    "\n",
    "\n",
    "\n",
    "    "
   ]
  },
  {
   "cell_type": "code",
   "execution_count": 39,
   "metadata": {
    "collapsed": false
   },
   "outputs": [
    {
     "name": "stdout",
     "output_type": "stream",
     "text": [
      "     1   2   3   4   5   6   7   8   9  10\n",
      "   1   1   2   3   4   5   6   7   8   9  10\n",
      "   2   2   4   6   8  10  12  14  16  18  20\n",
      "   3   3   6   9  12  15  18  21  24  27  30\n",
      "   4   4   8  12  16  20  24  28  32  36  40\n",
      "   5   5  10  15  20  25  30  35  40  45  50\n",
      "   6   6  12  18  24  30  36  42  48  54  60\n",
      "   7   7  14  21  28  35  42  49  56  63  70\n",
      "   8   8  16  24  32  40  48  56  64  72  80\n",
      "   9   9  18  27  36  45  54  63  72  81  90\n",
      "  10  10  20  30  40  50  60  70  80  90 100\n"
     ]
    }
   ],
   "source": [
    "#Exercise 74:Multiplication Table\n",
    "MIN = 1\n",
    "MAX = 10\n",
    "print(\"  \",end=\"\")\n",
    "for i in range(MIN, MAX + 1):\n",
    "    print(\"%4d\"%i,end=\"\")\n",
    "print()\n",
    "for i in range(MIN, MAX + 1):\n",
    "    print(\"%4d\"%i,end=\"\")\n",
    "    for j in range(MIN,MAX + 1):\n",
    "        print(\"%4d\"%(i*j),end=\"\")\n",
    "    print()\n"
   ]
  },
  {
   "cell_type": "code",
   "execution_count": 5,
   "metadata": {
    "collapsed": false
   },
   "outputs": [
    {
     "name": "stdout",
     "output_type": "stream",
     "text": [
      "Enter a positive integer:12\n",
      "Enter a positive integer:24\n",
      "Greatest common divisor of 12 and 24 is 12\n"
     ]
    }
   ],
   "source": [
    "#Exercise 75:Greatest Common Divisor\n",
    "n = int(input(\"Enter a positive integer:\"))\n",
    "m = int(input(\"Enter a positive integer:\"))\n",
    "d = min(n,m)\n",
    "while m % d != 0 or n % d != 0:\n",
    "    d = d-1\n",
    "print(\"Greatest common divisor of %s and %s is %d\"%(n,m,d))"
   ]
  },
  {
   "cell_type": "code",
   "execution_count": 1,
   "metadata": {
    "collapsed": false
   },
   "outputs": [
    {
     "name": "stdout",
     "output_type": "stream",
     "text": [
      "Enter an integer(2 or greater)72\n",
      "Prime factors of 72 are\n",
      "2\n",
      "2\n",
      "2\n",
      "3\n",
      "3\n"
     ]
    }
   ],
   "source": [
    "#Exercise 76:Prime factors\n",
    "integer = int(input(\"Enter an integer(2 or greater)\"))\n",
    "factor = 2\n",
    "print(\"Prime factors of\",integer,\"are\")\n",
    "while factor <= integer:\n",
    "    if integer % factor == 0:\n",
    "        print(factor)\n",
    "        integer = integer//factor\n",
    "    else:\n",
    "        factor += 1\n",
    "        \n",
    "        \n",
    "    "
   ]
  },
  {
   "cell_type": "code",
   "execution_count": 6,
   "metadata": {
    "collapsed": false
   },
   "outputs": [
    {
     "name": "stdout",
     "output_type": "stream",
     "text": [
      "Enter the number in decimal:2\n",
      "In binary form:10\n"
     ]
    }
   ],
   "source": [
    "#Exercise 77:Decimal to binary\n",
    "decimal = int(input(\"Enter the number in decimal:\"))\n",
    "result = \"\"\n",
    "while decimal != 0:\n",
    "    r = decimal % 2\n",
    "    result = result + str(r)\n",
    "    decimal = decimal // 2\n",
    "print(\"In binary form:%s\"%result[::-1])\n"
   ]
  },
  {
   "cell_type": "code",
   "execution_count": 7,
   "metadata": {
    "collapsed": false
   },
   "outputs": [
    {
     "name": "stdout",
     "output_type": "stream",
     "text": [
      "Enter the binary number:1000\n",
      "8\n"
     ]
    }
   ],
   "source": [
    "#Exercise 78:Binary to decimal\n",
    "binary = input(\"Enter the binary number:\")\n",
    "decimal = 0\n",
    "for digit in binary:\n",
    "  decimal = decimal*2 + int(digit)\n",
    "print(decimal)"
   ]
  },
  {
   "cell_type": "code",
   "execution_count": 15,
   "metadata": {
    "collapsed": true
   },
   "outputs": [
    {
     "name": "stdout",
     "output_type": "stream",
     "text": [
      "95\n",
      "62\n",
      "64\n",
      "68\n",
      "79\n",
      "22\n",
      "65\n",
      "10\n",
      "70\n",
      "72\n",
      "98 --update\n",
      "86\n",
      "71\n",
      "1\n",
      "96\n",
      "28\n",
      "59\n",
      "71\n",
      "25\n",
      "49\n",
      "69\n",
      "74\n",
      "58\n",
      "74\n",
      "94\n",
      "93\n",
      "11\n",
      "76\n",
      "4\n",
      "1\n",
      "2\n",
      "94\n",
      "58\n",
      "45\n",
      "41\n",
      "17\n",
      "51\n",
      "97\n",
      "45\n",
      "52\n",
      "92\n",
      "2\n",
      "19\n",
      "76\n",
      "34\n",
      "89\n",
      "65\n",
      "29\n",
      "24\n",
      "62\n",
      "5\n",
      "68\n",
      "66\n",
      "62\n",
      "100 --update\n",
      "50\n",
      "51\n",
      "81\n",
      "24\n",
      "5\n",
      "26\n",
      "47\n",
      "65\n",
      "68\n",
      "75\n",
      "85\n",
      "86\n",
      "78\n",
      "8\n",
      "76\n",
      "49\n",
      "53\n",
      "79\n",
      "65\n",
      "3\n",
      "32\n",
      "55\n",
      "33\n",
      "75\n",
      "8\n",
      "14\n",
      "5\n",
      "64\n",
      "65\n",
      "98\n",
      "2\n",
      "86\n",
      "83\n",
      "53\n",
      "91\n",
      "49\n",
      "27\n",
      "24\n",
      "70\n",
      "48\n",
      "20\n",
      "11\n",
      "74\n",
      "96\n",
      "18\n",
      "77\n",
      "Maximum value: 100\n",
      "Maximum value was updated 2 number of times\n"
     ]
    }
   ],
   "source": [
    "#Exercise 79:Maximum Integer\n",
    "from random import randrange\n",
    "\n",
    "max_val = randrange(1,101)\n",
    "print(max_val)\n",
    "updates = 0\n",
    "\n",
    "for i in range(1,101):\n",
    "    current = randrange(1,101)\n",
    "    if current > max_val:\n",
    "        max_val = current\n",
    "        updates = updates + 1\n",
    "        print(current,\"--update\")\n",
    "    else:\n",
    "        print(current)\n",
    "    \n",
    "print(\"Maximum value:\",max_val)\n",
    "print(\"Maximum value was updated\",updates,\"number of times\")"
   ]
  },
  {
   "cell_type": "code",
   "execution_count": 1,
   "metadata": {
    "collapsed": false
   },
   "outputs": [
    {
     "name": "stdout",
     "output_type": "stream",
     "text": [
      "T T T (3 flips)\n",
      " H T T H T H H T T T (10 flips)\n",
      " H H H (3 flips)\n",
      " H H T H T T H T H T T H H H (14 flips)\n",
      " T T T (3 flips)\n",
      " T H H T H T T T (8 flips)\n",
      " T T H T H H T H H H (10 flips)\n",
      " H H H (3 flips)\n",
      " T T H T H H T H T T H T H T H T H T H T H T T H T T H H T T T (31 flips)\n",
      " H T T H T T T (7 flips)\n",
      " On an average 9.20 flips were needed\n"
     ]
    }
   ],
   "source": [
    "#Exercise 80:coin flip simulation\n",
    "total_flips = 0\n",
    "import random\n",
    "for i in range(10):    \n",
    "    consecutive = 0\n",
    "    prev_flip = 0\n",
    "    count = 0\n",
    "    while(consecutive < 3):\n",
    "        flip = random.randint(1,2)\n",
    "        if(flip == 1):\n",
    "            print(\"H\",end = \" \")\n",
    "        else:\n",
    "            print(\"T\",end = \" \")\n",
    "        if flip == prev_flip:\n",
    "            consecutive += 1\n",
    "        else:\n",
    "            consecutive = 1\n",
    "            prev_flip = flip \n",
    "        count = count+1\n",
    "    total_flips = total_flips + count\n",
    "    print(\"(%d flips)\\n\"%count,end = \" \")\n",
    "print(\"On an average %.2f flips were needed\"%(total_flips/10))"
   ]
  },
  {
   "cell_type": "code",
   "execution_count": null,
   "metadata": {
    "collapsed": true
   },
   "outputs": [],
   "source": []
  }
 ],
 "metadata": {
  "anaconda-cloud": {},
  "kernelspec": {
   "display_name": "Python [default]",
   "language": "python",
   "name": "python3"
  },
  "language_info": {
   "codemirror_mode": {
    "name": "ipython",
    "version": 3
   },
   "file_extension": ".py",
   "mimetype": "text/x-python",
   "name": "python",
   "nbconvert_exporter": "python",
   "pygments_lexer": "ipython3",
   "version": "3.5.2"
  }
 },
 "nbformat": 4,
 "nbformat_minor": 1
}
